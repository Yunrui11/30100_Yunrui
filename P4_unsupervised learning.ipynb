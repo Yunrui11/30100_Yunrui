{
 "cells": [
  {
   "cell_type": "markdown",
   "metadata": {},
   "source": [
    "## Project Description: \n",
    "\n",
    "In the digital era, people have become increasingly reliant on electronic devices. Social media has subtly altered people’s lifestyles, as social interaction has moved to the digital sphere. People might be more likely to express their true selves when they engage in online platforms because everyone's identities are hidden behind the screen. This project aims to train a model that can effectively predict people's depression status through text analysis of their posts on Reddit. I believe this project would be beneficial for mental health evaluation, providing monitoring and prevention for people who have a tendency to be depressed."
   ]
  },
  {
   "cell_type": "code",
   "execution_count": 2,
   "metadata": {},
   "outputs": [],
   "source": [
    "import numpy as np\n",
    "import pandas as pd\n",
    "import matplotlib.pyplot as plt\n",
    "import seaborn as sns"
   ]
  },
  {
   "cell_type": "markdown",
   "metadata": {},
   "source": [
    "### Data overview"
   ]
  },
  {
   "cell_type": "markdown",
   "metadata": {},
   "source": [
    "* Link of my dataset: https://www.kaggle.com/datasets/infamouscoder/depression-reddit-cleaned *"
   ]
  },
  {
   "cell_type": "code",
   "execution_count": 3,
   "metadata": {},
   "outputs": [
    {
     "name": "stdout",
     "output_type": "stream",
     "text": [
      "(7731, 2)\n"
     ]
    }
   ],
   "source": [
    "# read data from file to a pandas dataframe\n",
    "path = '/Users/pro/Desktop/Winter 2024/30100/30100_Yunrui/Reddit_depression.csv'\n",
    "df = pd.read_csv(path) \n",
    "# check the shape of the data frame\n",
    "print(df.shape)"
   ]
  },
  {
   "cell_type": "code",
   "execution_count": 4,
   "metadata": {},
   "outputs": [
    {
     "data": {
      "text/html": [
       "<div>\n",
       "<style scoped>\n",
       "    .dataframe tbody tr th:only-of-type {\n",
       "        vertical-align: middle;\n",
       "    }\n",
       "\n",
       "    .dataframe tbody tr th {\n",
       "        vertical-align: top;\n",
       "    }\n",
       "\n",
       "    .dataframe thead th {\n",
       "        text-align: right;\n",
       "    }\n",
       "</style>\n",
       "<table border=\"1\" class=\"dataframe\">\n",
       "  <thead>\n",
       "    <tr style=\"text-align: right;\">\n",
       "      <th></th>\n",
       "      <th>clean_text</th>\n",
       "      <th>is_depression</th>\n",
       "    </tr>\n",
       "  </thead>\n",
       "  <tbody>\n",
       "    <tr>\n",
       "      <th>0</th>\n",
       "      <td>we understand that most people who reply immed...</td>\n",
       "      <td>1</td>\n",
       "    </tr>\n",
       "    <tr>\n",
       "      <th>1</th>\n",
       "      <td>welcome to r depression s check in post a plac...</td>\n",
       "      <td>1</td>\n",
       "    </tr>\n",
       "    <tr>\n",
       "      <th>2</th>\n",
       "      <td>anyone else instead of sleeping more when depr...</td>\n",
       "      <td>1</td>\n",
       "    </tr>\n",
       "    <tr>\n",
       "      <th>3</th>\n",
       "      <td>i ve kind of stuffed around a lot in my life d...</td>\n",
       "      <td>1</td>\n",
       "    </tr>\n",
       "    <tr>\n",
       "      <th>4</th>\n",
       "      <td>sleep is my greatest and most comforting escap...</td>\n",
       "      <td>1</td>\n",
       "    </tr>\n",
       "  </tbody>\n",
       "</table>\n",
       "</div>"
      ],
      "text/plain": [
       "                                          clean_text  is_depression\n",
       "0  we understand that most people who reply immed...              1\n",
       "1  welcome to r depression s check in post a plac...              1\n",
       "2  anyone else instead of sleeping more when depr...              1\n",
       "3  i ve kind of stuffed around a lot in my life d...              1\n",
       "4  sleep is my greatest and most comforting escap...              1"
      ]
     },
     "execution_count": 4,
     "metadata": {},
     "output_type": "execute_result"
    }
   ],
   "source": [
    "# get an overview of the top-n rows/samples\n",
    "df.head()"
   ]
  },
  {
   "cell_type": "code",
   "execution_count": 5,
   "metadata": {},
   "outputs": [
    {
     "data": {
      "text/plain": [
       "clean_text       0\n",
       "is_depression    0\n",
       "dtype: int64"
      ]
     },
     "execution_count": 5,
     "metadata": {},
     "output_type": "execute_result"
    }
   ],
   "source": [
    "# this dataset has been cleaned, so there is no missing value\n",
    "null_sum = df.isnull().sum()\n",
    "null_sum"
   ]
  },
  {
   "cell_type": "code",
   "execution_count": 6,
   "metadata": {},
   "outputs": [
    {
     "data": {
      "text/plain": [
       "clean_text       string[python]\n",
       "is_depression             int64\n",
       "dtype: object"
      ]
     },
     "execution_count": 6,
     "metadata": {},
     "output_type": "execute_result"
    }
   ],
   "source": [
    "# convert clean_text to string type\n",
    "df['clean_text'] = df['clean_text'].astype('string')\n",
    "df.dtypes"
   ]
  },
  {
   "cell_type": "code",
   "execution_count": 7,
   "metadata": {},
   "outputs": [
    {
     "data": {
      "text/plain": [
       "<Axes: xlabel='is_depression', ylabel='count'>"
      ]
     },
     "execution_count": 7,
     "metadata": {},
     "output_type": "execute_result"
    },
    {
     "data": {
      "image/png": "[encoded data removed]",
      "text/plain": [
       "<Figure size 640x480 with 1 Axes>"
      ]
     },
     "metadata": {},
     "output_type": "display_data"
    }
   ],
   "source": [
    "# this indicates that our dataset is pretty balanced\n",
    "sns.countplot(data=df,x=\"is_depression\")"
   ]
  },
  {
   "cell_type": "markdown",
   "metadata": {},
   "source": [
    "#### Text transformation \n",
    "- tokenization, stemming, lemmatization"
   ]
  },
  {
   "cell_type": "code",
   "execution_count": 8,
   "metadata": {},
   "outputs": [],
   "source": [
    "import nltk\n",
    "from nltk import word_tokenize\n",
    "from nltk.stem import WordNetLemmatizer\n",
    "import re"
   ]
  },
  {
   "cell_type": "code",
   "execution_count": 9,
   "metadata": {},
   "outputs": [
    {
     "data": {
      "text/plain": [
       "0       we understand that most people who reply immed...\n",
       "1       welcome to r depression s check in post a plac...\n",
       "2       anyone else instead of sleeping more when depr...\n",
       "3       i ve kind of stuffed around a lot in my life d...\n",
       "4       sleep is my greatest and most comforting escap...\n",
       "                              ...                        \n",
       "7726                                         is that snow\n",
       "7727                   moulin rouge mad me cry once again\n",
       "7728    trying to shout but can t find people on the list\n",
       "7729    ughh can t find my red sox hat got ta wear thi...\n",
       "7730    slept wonderfully finally tried swatching for ...\n",
       "Name: clean_text, Length: 7731, dtype: string"
      ]
     },
     "execution_count": 9,
     "metadata": {},
     "output_type": "execute_result"
    }
   ],
   "source": [
    "# after inspecting the cleaned text, \n",
    "# we realize that the text has been tokenized and lemmatized, \n",
    "# but there are still some non words in the text\n",
    "df['clean_text']"
   ]
  },
  {
   "cell_type": "markdown",
   "metadata": {},
   "source": [
    "### Observing the cleaned text, I think the text data has been tokenized, stemed, and lemmatized before. Therefore, I just wrote a function to convert the words that was decontracted back to their origina format"
   ]
  },
  {
   "cell_type": "code",
   "execution_count": 10,
   "metadata": {},
   "outputs": [],
   "source": [
    "def clean_text(text):\n",
    "    cleaned_words = []\n",
    "    for word in text.split():\n",
    "        if len(word) == 1 and word == \"m\":\n",
    "            cleaned_words.append(\"am\")\n",
    "        elif len(word) == 1 and word == \"s\":\n",
    "            cleaned_words.append(\"is\")\n",
    "        elif len(word) == 1 and word == \"t\":\n",
    "            cleaned_words.append(\"not\")\n",
    "        elif len(word) == 2 and word == \"re\":\n",
    "            cleaned_words.append(\"are\")\n",
    "        elif len(word) == 2 and word == \"ve\":\n",
    "            cleaned_words.append(\"have\")\n",
    "        elif len(word) == 2 and word == \"ll\":\n",
    "            cleaned_words.append(\"will\")\n",
    "        elif len(word) == 2 and word == \"wa\":\n",
    "            cleaned_words.append(\"was\")\n",
    "        elif word.isalpha() == False:\n",
    "            continue\n",
    "        else:\n",
    "            cleaned_words.append(word)\n",
    "    return \" \".join(cleaned_words)"
   ]
  },
  {
   "cell_type": "code",
   "execution_count": 11,
   "metadata": {},
   "outputs": [],
   "source": [
    "df['clean_text'] = df['clean_text'].apply(clean_text)"
   ]
  },
  {
   "cell_type": "code",
   "execution_count": 12,
   "metadata": {},
   "outputs": [
    {
     "data": {
      "text/html": [
       "<div>\n",
       "<style scoped>\n",
       "    .dataframe tbody tr th:only-of-type {\n",
       "        vertical-align: middle;\n",
       "    }\n",
       "\n",
       "    .dataframe tbody tr th {\n",
       "        vertical-align: top;\n",
       "    }\n",
       "\n",
       "    .dataframe thead th {\n",
       "        text-align: right;\n",
       "    }\n",
       "</style>\n",
       "<table border=\"1\" class=\"dataframe\">\n",
       "  <thead>\n",
       "    <tr style=\"text-align: right;\">\n",
       "      <th></th>\n",
       "      <th>clean_text</th>\n",
       "      <th>is_depression</th>\n",
       "    </tr>\n",
       "  </thead>\n",
       "  <tbody>\n",
       "    <tr>\n",
       "      <th>0</th>\n",
       "      <td>we understand that most people who reply immed...</td>\n",
       "      <td>1</td>\n",
       "    </tr>\n",
       "    <tr>\n",
       "      <th>1</th>\n",
       "      <td>welcome to r depression is check in post a pla...</td>\n",
       "      <td>1</td>\n",
       "    </tr>\n",
       "    <tr>\n",
       "      <th>2</th>\n",
       "      <td>anyone else instead of sleeping more when depr...</td>\n",
       "      <td>1</td>\n",
       "    </tr>\n",
       "    <tr>\n",
       "      <th>3</th>\n",
       "      <td>i have kind of stuffed around a lot in my life...</td>\n",
       "      <td>1</td>\n",
       "    </tr>\n",
       "    <tr>\n",
       "      <th>4</th>\n",
       "      <td>sleep is my greatest and most comforting escap...</td>\n",
       "      <td>1</td>\n",
       "    </tr>\n",
       "  </tbody>\n",
       "</table>\n",
       "</div>"
      ],
      "text/plain": [
       "                                          clean_text  is_depression\n",
       "0  we understand that most people who reply immed...              1\n",
       "1  welcome to r depression is check in post a pla...              1\n",
       "2  anyone else instead of sleeping more when depr...              1\n",
       "3  i have kind of stuffed around a lot in my life...              1\n",
       "4  sleep is my greatest and most comforting escap...              1"
      ]
     },
     "execution_count": 12,
     "metadata": {},
     "output_type": "execute_result"
    }
   ],
   "source": [
    "df.head()"
   ]
  },
  {
   "cell_type": "markdown",
   "metadata": {},
   "source": [
    "### Feature Engineering\n",
    "- CountVectorizer\n",
    "Based on the previous project check, Gridsearch and evaluation tests boeh show that countvectorizer would be able to perfrom better than tfidfvectorizer. Therefore, in this final project check, I will mainly focused on countvectorizer. "
   ]
  },
  {
   "cell_type": "code",
   "execution_count": 13,
   "metadata": {},
   "outputs": [],
   "source": [
    "from sklearn.feature_extraction.text import CountVectorizer"
   ]
  },
  {
   "cell_type": "markdown",
   "metadata": {},
   "source": [
    "## "
   ]
  },
  {
   "cell_type": "code",
   "execution_count": 14,
   "metadata": {},
   "outputs": [],
   "source": [
    "# define your own stopwords list\n",
    "# Exluding NO, NOR, NOT from the stop words as they play keyrole\n",
    "stopwords= set(['br', 'the', 'i', 'me', 'my', 'myself', 'we', 'our', 'ours', 'ourselves', 'you', \"you're\", \"you've\",\\\n",
    "            \"you'll\", \"you'd\", 'your', 'yours', 'yourself', 'yourselves', 'he', 'him', 'his', 'himself', \\\n",
    "            'she', \"she's\", 'her', 'hers', 'herself', 'it', \"it's\", 'its', 'itself', 'they', 'them', 'their',\\\n",
    "            'theirs', 'themselves', 'what', 'which', 'who', 'whom', 'this', 'that', \"that'll\", 'these', 'those', \\\n",
    "            'am', 'is', 'are', 'was', 'were', 'be', 'been', 'being', 'have', 'has', 'had', 'having', 'do', 'does', \\\n",
    "            'did', 'doing', 'a', 'an', 'the', 'and', 'but', 'if', 'or', 'because', 'as', 'until', 'while', 'of', \\\n",
    "            'at', 'by', 'for', 'with', 'about', 'against', 'between', 'into', 'through', 'during', 'before', 'after',\\\n",
    "            'above', 'below', 'to', 'from', 'up', 'down', 'in', 'out', 'on', 'off', 'over', 'under', 'again', 'further',\\\n",
    "            'then', 'once', 'here', 'there', 'when', 'where', 'why', 'how', 'all', 'any', 'both', 'each', 'few', 'more',\\\n",
    "            'most', 'other', 'some', 'such', 'only', 'own', 'same', 'so', 'than', 'too', 'very', \\\n",
    "            's', 't', 'can', 'will', 'just', 'don', \"don't\", 'should', \"should've\", 'now', 'd', 'll', 'm', 'o', 're', \\\n",
    "            've', 'y', 'ain', 'aren', \"aren't\", 'couldn', \"couldn't\", 'didn', \"didn't\", 'doesn', \"doesn't\", 'hadn',\\\n",
    "            \"hadn't\", 'hasn', \"hasn't\", 'haven', \"haven't\", 'isn', \"isn't\", 'ma', 'mightn', \"mightn't\", 'mustn',\\\n",
    "            \"mustn't\", 'needn', \"needn't\", 'shan', \"shan't\", 'shouldn', \"shouldn't\", 'wasn', \"wasn't\", 'weren', \"weren't\", \\\n",
    "            'won', \"won't\", 'wouldn', \"wouldn't\",\"ab\", \"ai\", \"af\"])\n",
    "\n"
   ]
  },
  {
   "cell_type": "code",
   "execution_count": 15,
   "metadata": {},
   "outputs": [],
   "source": [
    "# Function to remove stopwords from text\n",
    "def remove_stopwords(text):\n",
    "    return ' '.join([word for word in text.split() if word.lower() not in stopwords])\n",
    "\n",
    "# Apply the function to clean_text column\n",
    "df['clean_text'] = df['clean_text'].apply(remove_stopwords)"
   ]
  },
  {
   "cell_type": "code",
   "execution_count": 16,
   "metadata": {},
   "outputs": [
    {
     "name": "stdout",
     "output_type": "stream",
     "text": [
      "X.shape :  (7731, 2543)\n",
      "y.shape :  (7731,)\n"
     ]
    }
   ],
   "source": [
    "# use CountVectorizer to convert the cleaned reviews to vectors\n",
    "vectorizer = CountVectorizer(binary=False, max_df=0.8, min_df=10, ngram_range=(1,1))\n",
    "\n",
    "# Convert the cleaned reviews to vectors\n",
    "X = vectorizer.fit_transform(df['clean_text'])\n",
    "y = df['is_depression']\n",
    "\n",
    "print(\"X.shape : \", X.shape)\n",
    "print(\"y.shape : \", y.shape)"
   ]
  },
  {
   "cell_type": "code",
   "execution_count": 17,
   "metadata": {},
   "outputs": [
    {
     "data": {
      "text/plain": [
       "array(['abandoned', 'ability', 'able', 'absolute', 'absolutely', 'abt',\n",
       "       'abuse', 'abused', 'abusive', 'academic', 'accept', 'accepted',\n",
       "       'accepting', 'access', 'accident', 'accidentally', 'accomplish',\n",
       "       'accomplished', 'account', 'ache', 'achieve', 'achievement',\n",
       "       'acknowledge', 'across', 'act', 'acted', 'acting', 'action',\n",
       "       'active', 'actively', 'activity', 'actual', 'actually', 'add',\n",
       "       'added', 'addict', 'addicted', 'addiction', 'adding', 'adhd',\n",
       "       'admit', 'admitted', 'adult', 'advance', 'advantage', 'advice',\n",
       "       'affect', 'affected', 'affecting', 'afford', 'afraid', 'afternoon',\n",
       "       'afterwards', 'age', 'aggressive', 'ago', 'agree', 'agreed', 'ah',\n",
       "       'ahead', 'air', 'airport', 'alarm', 'album', 'alcohol',\n",
       "       'alcoholic', 'alive', 'allergy', 'allow', 'allowed', 'almost',\n",
       "       'alone', 'along', 'alot', 'already', 'alright', 'also', 'although',\n",
       "       'always', 'amazing', 'ambition', 'american', 'among', 'amount',\n",
       "       'amp', 'anger', 'angry', 'animal', 'annoyed', 'annoying',\n",
       "       'another', 'answer', 'anti', 'antidepressant', 'anxiety',\n",
       "       'anxious', 'anybody', 'anymore', 'anyone', 'anything', 'anytime',\n",
       "       'anyway', 'anyways', 'anywhere', 'apart', 'apartment', 'apologize',\n",
       "       'app', 'apparently', 'appearance', 'appetite', 'application',\n",
       "       'applied', 'apply', 'applying', 'appointment', 'appreciate',\n",
       "       'appreciated', 'approach', 'apps', 'april', 'area', 'argh',\n",
       "       'argument', 'arm', 'around', 'art', 'article', 'ashamed', 'aside',\n",
       "       'ask', 'asked', 'asking', 'asks', 'asleep', 'aspect', 'assaulted',\n",
       "       'asshole', 'assignment', 'assume', 'assumed', 'assuming', 'ate',\n",
       "       'atleast', 'atm', 'attached', 'attack', 'attempt', 'attempted',\n",
       "       'attempting', 'attend', 'attention', 'attitude', 'attractive',\n",
       "       'au', 'aunt', 'autism', 'autistic', 'available', 'average',\n",
       "       'avoid', 'avoiding', 'aw', 'awake', 'aware', 'away', 'awesome',\n",
       "       'awful', 'awhile', 'awkward', 'aww', 'awww', 'babe', 'baby',\n",
       "       'back', 'background', 'bad', 'badly', 'bag', 'balance', 'ball',\n",
       "       'band', 'bank', 'bar', 'bare', 'barely', 'based', 'basic',\n",
       "       'basically', 'basis', 'bathroom', 'battery', 'battle', 'bc',\n",
       "       'beach', 'bear', 'beat', 'beating', 'beautiful', 'became'],\n",
       "      dtype=object)"
      ]
     },
     "execution_count": 17,
     "metadata": {},
     "output_type": "execute_result"
    }
   ],
   "source": [
    "feature_names = vectorizer.get_feature_names_out()\n",
    "feature_names[:200]"
   ]
  },
  {
   "cell_type": "markdown",
   "metadata": {},
   "source": [
    "- After exploreing different hyperparameters, this list of top features makes the most sense, and I used the stopwords to get rid of many of the non-words. "
   ]
  },
  {
   "cell_type": "markdown",
   "metadata": {},
   "source": [
    "### Train test split\n",
    "- Shuffling the data (random permutations of the collections)\n",
    "- Split the data into training and testing by 80:20 ratio (you can customize the ratio by yourself)\n",
    "- Assign a random state for reproducible output"
   ]
  },
  {
   "cell_type": "code",
   "execution_count": 18,
   "metadata": {},
   "outputs": [],
   "source": [
    "import sklearn\n",
    "from sklearn import tree\n",
    "from sklearn.model_selection import train_test_split"
   ]
  },
  {
   "cell_type": "code",
   "execution_count": 19,
   "metadata": {},
   "outputs": [
    {
     "name": "stdout",
     "output_type": "stream",
     "text": [
      "Training data: X : (6184, 2543), y : (6184,)\n",
      "Testing data: X : (1547, 2543), y : (1547,)\n"
     ]
    }
   ],
   "source": [
    "X_train,X_test,y_train,y_test = train_test_split(X, y, test_size=0.2,\n",
    "                                                 shuffle=True,\n",
    "                                                 random_state=42)\n",
    "# check data size after splitting\n",
    "print(\"Training data: X : {}, y : {}\".format(X_train.shape, y_train.shape))\n",
    "print(\"Testing data: X : {}, y : {}\".format(X_test.shape, y_test.shape))"
   ]
  },
  {
   "cell_type": "markdown",
   "metadata": {},
   "source": [
    "## Train a Machine Learning Model\n",
    "\n",
    "After we do text preprocessing, text feature representation, and train test split, the next step is model training. The previous project checks help us to narrow our focus down to these three models below that has the best performance:\n",
    "\n",
    "- Random Forest\n",
    "- Logistic Regression\n",
    "- (Deep) Neural Networks\n"
   ]
  },
  {
   "cell_type": "markdown",
   "metadata": {},
   "source": [
    "### Random Forest"
   ]
  },
  {
   "cell_type": "code",
   "execution_count": 20,
   "metadata": {},
   "outputs": [],
   "source": [
    "from sklearn.ensemble import RandomForestClassifier\n",
    "from sklearn.metrics import confusion_matrix\n",
    "import matplotlib.pyplot as plt\n",
    "from sklearn.metrics import classification_report\n",
    "from sklearn.metrics import accuracy_score\n",
    "from sklearn.metrics import roc_curve, roc_auc_score"
   ]
  },
  {
   "cell_type": "code",
   "execution_count": 21,
   "metadata": {},
   "outputs": [
    {
     "data": {
      "text/plain": [
       "0.999"
      ]
     },
     "execution_count": 21,
     "metadata": {},
     "output_type": "execute_result"
    }
   ],
   "source": [
    "# build a random forest classifier for the count vectorized feature matrix\n",
    "rf_clf = RandomForestClassifier(n_estimators=1000, criterion='entropy', random_state=42)\n",
    "rf_clf = rf_clf.fit(X_train, y_train)\n",
    "np.round(rf_clf.score(X_train, y_train),3)"
   ]
  },
  {
   "cell_type": "code",
   "execution_count": 22,
   "metadata": {},
   "outputs": [
    {
     "data": {
      "text/plain": [
       "array([[3891,    9],\n",
       "       [  75, 3756]])"
      ]
     },
     "execution_count": 22,
     "metadata": {},
     "output_type": "execute_result"
    }
   ],
   "source": [
    "y_true = y\n",
    "y_pred = rf_clf.predict(X) \n",
    "confusion_matrix(y_true, y_pred,labels=[0,1])"
   ]
  },
  {
   "cell_type": "code",
   "execution_count": 23,
   "metadata": {},
   "outputs": [
    {
     "name": "stdout",
     "output_type": "stream",
     "text": [
      "              precision    recall  f1-score   support\n",
      "\n",
      "           0       0.98      1.00      0.99      3900\n",
      "           1       1.00      0.98      0.99      3831\n",
      "\n",
      "    accuracy                           0.99      7731\n",
      "   macro avg       0.99      0.99      0.99      7731\n",
      "weighted avg       0.99      0.99      0.99      7731\n",
      "\n"
     ]
    }
   ],
   "source": [
    "print(classification_report(y_true, y_pred))"
   ]
  },
  {
   "cell_type": "markdown",
   "metadata": {},
   "source": [
    "- the report indicates that our current random forest model is performing well."
   ]
  },
  {
   "cell_type": "markdown",
   "metadata": {},
   "source": [
    "### Logistic Regression\n"
   ]
  },
  {
   "cell_type": "code",
   "execution_count": 24,
   "metadata": {},
   "outputs": [],
   "source": [
    "from sklearn.linear_model import LogisticRegression"
   ]
  },
  {
   "cell_type": "code",
   "execution_count": 25,
   "metadata": {},
   "outputs": [
    {
     "data": {
      "text/plain": [
       "0.957"
      ]
     },
     "execution_count": 25,
     "metadata": {},
     "output_type": "execute_result"
    }
   ],
   "source": [
    "# fit the logistic regression model without any regularization\n",
    "lg = LogisticRegression(random_state=42,solver='liblinear').fit(X_train, y_train)\n",
    "score1 = np.round(lg.score(X_test, y_test), 3)\n",
    "score1"
   ]
  },
  {
   "cell_type": "code",
   "execution_count": 26,
   "metadata": {},
   "outputs": [
    {
     "data": {
      "text/plain": [
       "array([[3887,   13],\n",
       "       [ 147, 3684]])"
      ]
     },
     "execution_count": 26,
     "metadata": {},
     "output_type": "execute_result"
    }
   ],
   "source": [
    "y_true = y\n",
    "y_pred = lg.predict(X) \n",
    "confusion_matrix(y_true, y_pred,labels=[0,1])"
   ]
  },
  {
   "cell_type": "code",
   "execution_count": 27,
   "metadata": {},
   "outputs": [
    {
     "name": "stdout",
     "output_type": "stream",
     "text": [
      "              precision    recall  f1-score   support\n",
      "\n",
      "           0       0.96      1.00      0.98      3900\n",
      "           1       1.00      0.96      0.98      3831\n",
      "\n",
      "    accuracy                           0.98      7731\n",
      "   macro avg       0.98      0.98      0.98      7731\n",
      "weighted avg       0.98      0.98      0.98      7731\n",
      "\n"
     ]
    }
   ],
   "source": [
    "print(classification_report(y_true, y_pred))"
   ]
  },
  {
   "cell_type": "code",
   "execution_count": 28,
   "metadata": {},
   "outputs": [
    {
     "data": {
      "image/png": "[encoded data removed]",
      "text/plain": [
       "<Figure size 640x480 with 1 Axes>"
      ]
     },
     "metadata": {},
     "output_type": "display_data"
    }
   ],
   "source": [
    "y_score = lg.predict_proba(X)[:, 1]\n",
    "fpr, tpr, thresholds = roc_curve(y_true, y_score, pos_label=1)\n",
    "roc_auc = roc_auc_score(y_true, y_score)\n",
    "plt.figure()\n",
    "lw = 2\n",
    "plt.plot(fpr, tpr, color='darkorange', lw=lw, label='ROC curve (area = %0.2f)' % roc_auc)\n",
    "plt.plot([0, 1], [0, 1], color='navy', lw=lw, linestyle='--')\n",
    "plt.xlim([0.0, 1.0])\n",
    "plt.ylim([0.0, 1.05])\n",
    "plt.xlabel('False Positive Rate')\n",
    "plt.ylabel('True Positive Rate')\n",
    "plt.title('ROC (Receiver operating characteristic) curve')\n",
    "plt.legend(loc=\"lower right\")\n",
    "plt.show()"
   ]
  },
  {
   "cell_type": "markdown",
   "metadata": {},
   "source": [
    "- based on the previous evaluation, we can see that our logistic regression model is performing well as well. "
   ]
  },
  {
   "cell_type": "markdown",
   "metadata": {},
   "source": [
    "## Unsupervised Learning\n",
    "\n",
    "This week, I will be exploresing PCA and deep learning."
   ]
  },
  {
   "cell_type": "code",
   "execution_count": 29,
   "metadata": {},
   "outputs": [],
   "source": [
    "from sklearn.cluster import KMeans\n",
    "from sklearn import decomposition\n",
    "from sklearn.decomposition import PCA"
   ]
  },
  {
   "cell_type": "code",
   "execution_count": 30,
   "metadata": {},
   "outputs": [
    {
     "name": "stderr",
     "output_type": "stream",
     "text": [
      "/Users/pro/anaconda3/lib/python3.11/site-packages/sklearn/cluster/_kmeans.py:1412: FutureWarning: The default value of `n_init` will change from 10 to 'auto' in 1.4. Set the value of `n_init` explicitly to suppress the warning\n",
      "  super()._check_params_vs_input(X, default_n_init=10)\n"
     ]
    },
    {
     "data": {
      "image/png": "[encoded data removed]",
      "text/plain": [
       "<Figure size 1000x600 with 1 Axes>"
      ]
     },
     "metadata": {},
     "output_type": "display_data"
    }
   ],
   "source": [
    "pca = decomposition.PCA(n_components=2)\n",
    "X_pca = pca.fit_transform(X.toarray())\n",
    "\n",
    "kmeans = KMeans(n_clusters=2)\n",
    "kmeans.fit(X_pca)\n",
    "y_pred = kmeans.labels_\n",
    "\n",
    "# Add the predicted labels to your original dataframe\n",
    "df['cluster'] = y_pred\n",
    "\n",
    "# Visualize the clusters\n",
    "plt.figure(figsize=(10, 6))\n",
    "sns.scatterplot(x=X_pca[:, 0], y=X_pca[:, 1], hue=y_pred, palette='viridis')\n",
    "plt.title('PCA Clusters')\n",
    "plt.show()"
   ]
  },
  {
   "cell_type": "code",
   "execution_count": 31,
   "metadata": {},
   "outputs": [
    {
     "data": {
      "text/plain": [
       "array([0.2902883 , 0.02392349])"
      ]
     },
     "execution_count": 31,
     "metadata": {},
     "output_type": "execute_result"
    }
   ],
   "source": [
    "pca.explained_variance_ratio_"
   ]
  },
  {
   "cell_type": "markdown",
   "metadata": {},
   "source": [
    "## Kernal PCA"
   ]
  },
  {
   "cell_type": "code",
   "execution_count": 32,
   "metadata": {},
   "outputs": [],
   "source": [
    "from sklearn.decomposition import KernelPCA\n",
    "from sklearn.preprocessing import StandardScaler\n",
    "\n",
    "# Standardize the data\n",
    "scaler = StandardScaler()\n",
    "X_scaled = scaler.fit_transform(X.toarray())\n",
    "\n",
    "# Use Kernel PCA with a specific kernel (e.g., 'rbf' for Radial Basis Function)\n",
    "kpca = KernelPCA(n_components=2, kernel='rbf')\n",
    "X_kpca = kpca.fit_transform(X_scaled)\n",
    "\n",
    "# Create a new DataFrame with the Kernel PCA results and the 'depression' labels\n",
    "df_kpca = pd.DataFrame(X_kpca, columns=['PC1', 'PC2'])\n",
    "df_kpca['depression'] = y "
   ]
  },
  {
   "cell_type": "code",
   "execution_count": 33,
   "metadata": {},
   "outputs": [
    {
     "data": {
      "image/png": "[encoded data removed]",
      "text/plain": [
       "<Figure size 1000x600 with 1 Axes>"
      ]
     },
     "metadata": {},
     "output_type": "display_data"
    }
   ],
   "source": [
    "# Scatter plot of the Kernel PCA results\n",
    "plt.figure(figsize=(10, 6))\n",
    "plt.scatter(df_kpca[df_kpca['depression'] == 0]['PC1'], df_kpca[df_kpca['depression'] == 0]['PC2'], color='blue', label='Not depressed')\n",
    "plt.scatter(df_kpca[df_kpca['depression'] == 1]['PC1'], df_kpca[df_kpca['depression'] == 1]['PC2'], color='red', label='Depressed')\n",
    "plt.xlabel('PC1')\n",
    "plt.ylabel('PC2')\n",
    "plt.title('Kernel PCA of Text Data')\n",
    "plt.legend()\n",
    "plt.show()"
   ]
  },
  {
   "cell_type": "markdown",
   "metadata": {},
   "source": [
    "- Based on explained ratio result and the graph, I think the current PCA model doesn't work for my dataset. I need to adjust the pattern further, but I am still a bit confused how I can do it. I will discuss with Professor next week"
   ]
  },
  {
   "cell_type": "code",
   "execution_count": 70,
   "metadata": {},
   "outputs": [
    {
     "name": "stdout",
     "output_type": "stream",
     "text": [
      "X_train:  (6184, 2543)\n",
      "X_train_pca:  (6184, 3)\n"
     ]
    },
    {
     "name": "stderr",
     "output_type": "stream",
     "text": [
      "/var/folders/03/2frn0wzx5ql5kmxdbrk9m8100000gn/T/ipykernel_15445/3695212577.py:18: UserWarning: No data for colormapping provided via 'c'. Parameters 'cmap' will be ignored\n",
      "  ax.scatter(X_train_pca[y_train== 0][:, 0], X_train_pca[y_train== 0][:, 1], X_train_pca[y_train== 0][:, 2], c='blue', cmap=plt.cm.nipy_spectral, edgecolor=\"k\")\n",
      "/var/folders/03/2frn0wzx5ql5kmxdbrk9m8100000gn/T/ipykernel_15445/3695212577.py:19: UserWarning: No data for colormapping provided via 'c'. Parameters 'cmap' will be ignored\n",
      "  ax.scatter(X_train_pca[y_train== 1][:, 0], X_train_pca[y_train== 1][:, 1], X_train_pca[y_train== 1][:, 2], c='red', cmap=plt.cm.nipy_spectral, edgecolor=\"k\")\n"
     ]
    },
    {
     "data": {
      "image/png": "[encoded data removed]",
      "text/plain": [
       "<Figure size 400x300 with 1 Axes>"
      ]
     },
     "metadata": {},
     "output_type": "display_data"
    }
   ],
   "source": [
    "# Visualize the data with 3 PCs\n",
    "\n",
    "pca = decomposition.PCA(n_components=3)\n",
    "X_train_pca = pca.fit_transform(X_train.toarray())\n",
    "print(\"X_train: \", X_train.shape)\n",
    "print(\"X_train_pca: \", X_train_pca.shape)\n",
    "\n",
    "fig = plt.figure(1, figsize=(4, 3))\n",
    "plt.clf()\n",
    "\n",
    "ax = fig.add_subplot(111, projection=\"3d\", elev=48, azim=134)\n",
    "ax.set_position([0, 0, 0.95, 1])\n",
    "\n",
    "plt.cla()\n",
    "\n",
    "# # Reorder the labels to have colors matching the cluster results\n",
    "# y_color = np.choose(y, [1, 2, 0]).astype(float)\n",
    "ax.scatter(X_train_pca[y_train== 0][:, 0], X_train_pca[y_train== 0][:, 1], X_train_pca[y_train== 0][:, 2], c='blue', cmap=plt.cm.nipy_spectral, edgecolor=\"k\")\n",
    "ax.scatter(X_train_pca[y_train== 1][:, 0], X_train_pca[y_train== 1][:, 1], X_train_pca[y_train== 1][:, 2], c='red', cmap=plt.cm.nipy_spectral, edgecolor=\"k\")\n",
    "\n",
    "\n",
    "ax.xaxis.set_ticklabels([])\n",
    "ax.yaxis.set_ticklabels([])\n",
    "ax.zaxis.set_ticklabels([])\n",
    "\n",
    "plt.show()"
   ]
  },
  {
   "cell_type": "code",
   "execution_count": 78,
   "metadata": {},
   "outputs": [
    {
     "name": "stdout",
     "output_type": "stream",
     "text": [
      "original score without PCA: 0.958\n",
      "PCA(k=5): 0.854\n",
      "PCA(k=25): 0.935\n",
      "PCA(k=125): 0.956\n",
      "PCA(k=625): 0.956\n",
      "PCA(k=100): 0.949\n",
      "PCA(k=2000): 0.960\n"
     ]
    }
   ],
   "source": [
    "X_train, X_test, y_train, y_test = train_test_split(X, y, random_state=42, test_size=0.3)\n",
    "dt_clf = LogisticRegression(random_state=42, solver = 'newton-cg')\n",
    "dt_clf = dt_clf.fit(X_train, y_train)\n",
    "print(\"original score without PCA: {:.3f}\".format(dt_clf.score(X_test, y_test))) \n",
    "\n",
    "for k in [5, 25, 125, 625, 100, 2000]:\n",
    "    # conduct PCA on dataset\n",
    "    pca = decomposition.PCA(n_components=k)\n",
    "    x_pca = pca.fit_transform(X.toarray())\n",
    "    X_train, X_test, y_train, y_test = train_test_split(x_pca, y, random_state=42, test_size=0.3)\n",
    "    \n",
    "    # model training and evaluation\n",
    "    best_score = -1\n",
    "    for c in [1e-3, 1e-2, 1e-1, 1, 1e2, 1e3]:\n",
    "        dt_clf = LogisticRegression(random_state=42, solver='newton-cg', C=c)\n",
    "        dt_clf = dt_clf.fit(X_train, y_train)\n",
    "        score = dt_clf.score(X_test, y_test)\n",
    "        best_score = max(best_score, score) \n",
    "    print(\"PCA(k={}): {:.3f}\".format(k, best_score))"
   ]
  },
  {
   "cell_type": "markdown",
   "metadata": {},
   "source": [
    "## Summary:\n",
    "\n",
    "- From the visualization, I think my PCA is not performing really great, However, after running the PCA model trainning for logistic regression, I realized the reason my first two dimension of PCA can only explain a low percentage of the variance because my data need a lot more than 2 dimensions PCA, because it has over 7000 samples, and more than 2500 features. Therefore, the evaluation results shows that when my pca components is about 125 and more, my model would be able to perform really well. However, PCA doesn't significantly improve my model performance, so I don't think it's a must for my final project. \n",
    "\n",
    "- I further explored the deep learning model and expect that would perform better than the PCA model. Also, it would be easier for me to ask professors and TAs about my next project check! "
   ]
  },
  {
   "cell_type": "markdown",
   "metadata": {},
   "source": [
    "## Deep Learning"
   ]
  },
  {
   "cell_type": "code",
   "execution_count": 58,
   "metadata": {},
   "outputs": [],
   "source": [
    "import keras\n",
    "from keras import models, layers, optimizers\n",
    "from tensorflow.keras.models import Sequential\n",
    "from tensorflow.keras.layers import Dense\n",
    "import tensorflow as tf\n",
    "from sklearn.preprocessing import LabelEncoder\n",
    "from sklearn.model_selection import train_test_split\n",
    "from sklearn.linear_model import LogisticRegression\n",
    "from sklearn.metrics import classification_report\n",
    "import matplotlib.pyplot as plt"
   ]
  },
  {
   "cell_type": "code",
   "execution_count": 59,
   "metadata": {},
   "outputs": [],
   "source": [
    "# Define a NN\n",
    "clf_model = Sequential()\n",
    "clf_model.add(Dense(2543, input_shape=(2543,), activation='relu'))\n",
    "clf_model.add(Dense(1, activation='sigmoid'))"
   ]
  },
  {
   "cell_type": "code",
   "execution_count": 60,
   "metadata": {},
   "outputs": [
    {
     "name": "stdout",
     "output_type": "stream",
     "text": [
      "Model: \"sequential\"\n",
      "_________________________________________________________________\n",
      " Layer (type)                Output Shape              Param #   \n",
      "=================================================================\n",
      " dense (Dense)               (None, 128)               325632    \n",
      "                                                                 \n",
      " dropout (Dropout)           (None, 128)               0         \n",
      "                                                                 \n",
      " dense_1 (Dense)             (None, 64)                8256      \n",
      "                                                                 \n",
      " dropout_1 (Dropout)         (None, 64)                0         \n",
      "                                                                 \n",
      " dense_2 (Dense)             (None, 1)                 65        \n",
      "                                                                 \n",
      "=================================================================\n",
      "Total params: 333953 (1.27 MB)\n",
      "Trainable params: 333953 (1.27 MB)\n",
      "Non-trainable params: 0 (0.00 Byte)\n",
      "_________________________________________________________________\n"
     ]
    }
   ],
   "source": [
    "model.summary()"
   ]
  },
  {
   "cell_type": "code",
   "execution_count": 61,
   "metadata": {},
   "outputs": [],
   "source": [
    "clf_model.compile(loss='binary_crossentropy', optimizer='adam', metrics=['accuracy'])"
   ]
  },
  {
   "cell_type": "code",
   "execution_count": 62,
   "metadata": {},
   "outputs": [],
   "source": [
    "train_dataset = tf.data.Dataset.from_tensor_slices((X_train.toarray(), y_train)).batch(32)\n"
   ]
  },
  {
   "cell_type": "code",
   "execution_count": 63,
   "metadata": {},
   "outputs": [
    {
     "name": "stdout",
     "output_type": "stream",
     "text": [
      "Epoch 1/100\n"
     ]
    },
    {
     "name": "stdout",
     "output_type": "stream",
     "text": [
      "194/194 [==============================] - 2s 9ms/step - loss: 0.1738 - accuracy: 0.9274\n",
      "Epoch 2/100\n",
      "194/194 [==============================] - 2s 8ms/step - loss: 0.0492 - accuracy: 0.9846\n",
      "Epoch 3/100\n",
      "194/194 [==============================] - 2s 9ms/step - loss: 0.0257 - accuracy: 0.9929\n",
      "Epoch 4/100\n",
      "194/194 [==============================] - 2s 9ms/step - loss: 0.0165 - accuracy: 0.9956\n",
      "Epoch 5/100\n",
      "194/194 [==============================] - 2s 9ms/step - loss: 0.0113 - accuracy: 0.9973\n",
      "Epoch 6/100\n",
      "194/194 [==============================] - 2s 9ms/step - loss: 0.0085 - accuracy: 0.9979\n",
      "Epoch 7/100\n",
      "194/194 [==============================] - 2s 9ms/step - loss: 0.0069 - accuracy: 0.9982\n",
      "Epoch 8/100\n",
      "194/194 [==============================] - 2s 8ms/step - loss: 0.0060 - accuracy: 0.9982\n",
      "Epoch 9/100\n",
      "194/194 [==============================] - 2s 8ms/step - loss: 0.0053 - accuracy: 0.9984\n",
      "Epoch 10/100\n",
      "194/194 [==============================] - 2s 9ms/step - loss: 0.0048 - accuracy: 0.9987\n",
      "Epoch 11/100\n",
      "194/194 [==============================] - 2s 8ms/step - loss: 0.0044 - accuracy: 0.9987\n",
      "Epoch 12/100\n",
      "194/194 [==============================] - 2s 9ms/step - loss: 0.0041 - accuracy: 0.9987\n",
      "Epoch 13/100\n",
      "194/194 [==============================] - 2s 9ms/step - loss: 0.0039 - accuracy: 0.9987\n",
      "Epoch 14/100\n",
      "194/194 [==============================] - 2s 9ms/step - loss: 0.0038 - accuracy: 0.9987\n",
      "Epoch 15/100\n",
      "194/194 [==============================] - 2s 10ms/step - loss: 0.0037 - accuracy: 0.9987\n",
      "Epoch 16/100\n",
      "194/194 [==============================] - 2s 9ms/step - loss: 0.0037 - accuracy: 0.9987\n",
      "Epoch 17/100\n",
      "194/194 [==============================] - 2s 9ms/step - loss: 0.0036 - accuracy: 0.9987\n",
      "Epoch 18/100\n",
      "194/194 [==============================] - 2s 8ms/step - loss: 0.0036 - accuracy: 0.9987\n",
      "Epoch 19/100\n",
      "194/194 [==============================] - 2s 8ms/step - loss: 0.0035 - accuracy: 0.9987\n",
      "Epoch 20/100\n",
      "194/194 [==============================] - 2s 8ms/step - loss: 0.0035 - accuracy: 0.9987\n",
      "Epoch 21/100\n",
      "194/194 [==============================] - 2s 8ms/step - loss: 0.0035 - accuracy: 0.9987\n",
      "Epoch 22/100\n",
      "194/194 [==============================] - 2s 8ms/step - loss: 0.0035 - accuracy: 0.9987\n",
      "Epoch 23/100\n",
      "194/194 [==============================] - 2s 9ms/step - loss: 0.0034 - accuracy: 0.9987\n",
      "Epoch 24/100\n",
      "194/194 [==============================] - 2s 8ms/step - loss: 0.0034 - accuracy: 0.9987\n",
      "Epoch 25/100\n",
      "194/194 [==============================] - 2s 9ms/step - loss: 0.0034 - accuracy: 0.9987\n",
      "Epoch 26/100\n",
      "194/194 [==============================] - 2s 10ms/step - loss: 0.0034 - accuracy: 0.9987\n",
      "Epoch 27/100\n",
      "194/194 [==============================] - 2s 9ms/step - loss: 0.0034 - accuracy: 0.9987\n",
      "Epoch 28/100\n",
      "194/194 [==============================] - 2s 9ms/step - loss: 0.0034 - accuracy: 0.9987\n",
      "Epoch 29/100\n",
      "194/194 [==============================] - 2s 8ms/step - loss: 0.0033 - accuracy: 0.9987\n",
      "Epoch 30/100\n",
      "194/194 [==============================] - 2s 9ms/step - loss: 0.0033 - accuracy: 0.9987\n",
      "Epoch 31/100\n",
      "194/194 [==============================] - 2s 8ms/step - loss: 0.0033 - accuracy: 0.9987\n",
      "Epoch 32/100\n",
      "194/194 [==============================] - 2s 8ms/step - loss: 0.0033 - accuracy: 0.9987\n",
      "Epoch 33/100\n",
      "194/194 [==============================] - 2s 8ms/step - loss: 0.0033 - accuracy: 0.9989\n",
      "Epoch 34/100\n",
      "194/194 [==============================] - 2s 8ms/step - loss: 0.0033 - accuracy: 0.9989\n",
      "Epoch 35/100\n",
      "194/194 [==============================] - 2s 8ms/step - loss: 0.0033 - accuracy: 0.9989\n",
      "Epoch 36/100\n",
      "194/194 [==============================] - 2s 9ms/step - loss: 0.0033 - accuracy: 0.9989\n",
      "Epoch 37/100\n",
      "194/194 [==============================] - 2s 8ms/step - loss: 0.0032 - accuracy: 0.9989\n",
      "Epoch 38/100\n",
      "194/194 [==============================] - 2s 8ms/step - loss: 0.0032 - accuracy: 0.9989\n",
      "Epoch 39/100\n",
      "194/194 [==============================] - 2s 8ms/step - loss: 0.0032 - accuracy: 0.9989\n",
      "Epoch 40/100\n",
      "194/194 [==============================] - 2s 10ms/step - loss: 0.0032 - accuracy: 0.9989\n",
      "Epoch 41/100\n",
      "194/194 [==============================] - 2s 9ms/step - loss: 0.0032 - accuracy: 0.9989\n",
      "Epoch 42/100\n",
      "194/194 [==============================] - 2s 9ms/step - loss: 0.0032 - accuracy: 0.9989\n",
      "Epoch 43/100\n",
      "194/194 [==============================] - 2s 8ms/step - loss: 0.0032 - accuracy: 0.9989\n",
      "Epoch 44/100\n",
      "194/194 [==============================] - 2s 9ms/step - loss: 0.0031 - accuracy: 0.9989\n",
      "Epoch 45/100\n",
      "194/194 [==============================] - 2s 10ms/step - loss: 0.0031 - accuracy: 0.9989\n",
      "Epoch 46/100\n",
      "194/194 [==============================] - 2s 9ms/step - loss: 0.0031 - accuracy: 0.9989\n",
      "Epoch 47/100\n",
      "194/194 [==============================] - 2s 9ms/step - loss: 0.0031 - accuracy: 0.9989\n",
      "Epoch 48/100\n",
      "194/194 [==============================] - 2s 9ms/step - loss: 0.0031 - accuracy: 0.9989\n",
      "Epoch 49/100\n",
      "194/194 [==============================] - 2s 8ms/step - loss: 0.0031 - accuracy: 0.9989\n",
      "Epoch 50/100\n",
      "194/194 [==============================] - 2s 9ms/step - loss: 0.0031 - accuracy: 0.9989\n",
      "Epoch 51/100\n",
      "194/194 [==============================] - 2s 9ms/step - loss: 0.0031 - accuracy: 0.9989\n",
      "Epoch 52/100\n",
      "194/194 [==============================] - 2s 9ms/step - loss: 0.0031 - accuracy: 0.9989\n",
      "Epoch 53/100\n",
      "194/194 [==============================] - 2s 9ms/step - loss: 0.0030 - accuracy: 0.9989\n",
      "Epoch 54/100\n",
      "194/194 [==============================] - 2s 9ms/step - loss: 0.0030 - accuracy: 0.9989\n",
      "Epoch 55/100\n",
      "194/194 [==============================] - 2s 9ms/step - loss: 0.0030 - accuracy: 0.9989\n",
      "Epoch 56/100\n",
      "194/194 [==============================] - 2s 8ms/step - loss: 0.0030 - accuracy: 0.9989\n",
      "Epoch 57/100\n",
      "194/194 [==============================] - 2s 8ms/step - loss: 0.0030 - accuracy: 0.9989\n",
      "Epoch 58/100\n",
      "194/194 [==============================] - 2s 8ms/step - loss: 0.0030 - accuracy: 0.9989\n",
      "Epoch 59/100\n",
      "194/194 [==============================] - 2s 8ms/step - loss: 0.0030 - accuracy: 0.9989\n",
      "Epoch 60/100\n",
      "194/194 [==============================] - 2s 8ms/step - loss: 0.0030 - accuracy: 0.9989\n",
      "Epoch 61/100\n",
      "194/194 [==============================] - 2s 8ms/step - loss: 0.0030 - accuracy: 0.9989\n",
      "Epoch 62/100\n",
      "194/194 [==============================] - 2s 9ms/step - loss: 0.0030 - accuracy: 0.9989\n",
      "Epoch 63/100\n",
      "194/194 [==============================] - 2s 8ms/step - loss: 0.0030 - accuracy: 0.9989\n",
      "Epoch 64/100\n",
      "194/194 [==============================] - 2s 9ms/step - loss: 0.0029 - accuracy: 0.9989\n",
      "Epoch 65/100\n",
      "194/194 [==============================] - 2s 8ms/step - loss: 0.0029 - accuracy: 0.9989\n",
      "Epoch 66/100\n",
      "194/194 [==============================] - 2s 9ms/step - loss: 0.0029 - accuracy: 0.9989\n",
      "Epoch 67/100\n",
      "194/194 [==============================] - 2s 8ms/step - loss: 0.0029 - accuracy: 0.9989\n",
      "Epoch 68/100\n",
      "194/194 [==============================] - 2s 8ms/step - loss: 0.0029 - accuracy: 0.9989\n",
      "Epoch 69/100\n",
      "194/194 [==============================] - 2s 9ms/step - loss: 0.0029 - accuracy: 0.9989\n",
      "Epoch 70/100\n",
      "194/194 [==============================] - 2s 8ms/step - loss: 0.0029 - accuracy: 0.9989\n",
      "Epoch 71/100\n",
      "194/194 [==============================] - 2s 9ms/step - loss: 0.0029 - accuracy: 0.9989\n",
      "Epoch 72/100\n",
      "194/194 [==============================] - 2s 8ms/step - loss: 0.0029 - accuracy: 0.9989\n",
      "Epoch 73/100\n",
      "194/194 [==============================] - 2s 9ms/step - loss: 0.0029 - accuracy: 0.9989\n",
      "Epoch 74/100\n",
      "194/194 [==============================] - 2s 8ms/step - loss: 0.0029 - accuracy: 0.9989\n",
      "Epoch 75/100\n",
      "194/194 [==============================] - 2s 9ms/step - loss: 0.0029 - accuracy: 0.9989\n",
      "Epoch 76/100\n",
      "194/194 [==============================] - 2s 8ms/step - loss: 0.0029 - accuracy: 0.9989\n",
      "Epoch 77/100\n",
      "194/194 [==============================] - 2s 8ms/step - loss: 0.0029 - accuracy: 0.9989\n",
      "Epoch 78/100\n",
      "194/194 [==============================] - 2s 8ms/step - loss: 0.0029 - accuracy: 0.9989\n",
      "Epoch 79/100\n",
      "194/194 [==============================] - 2s 9ms/step - loss: 0.0029 - accuracy: 0.9989\n",
      "Epoch 80/100\n",
      "194/194 [==============================] - 2s 8ms/step - loss: 0.0029 - accuracy: 0.9989\n",
      "Epoch 81/100\n",
      "194/194 [==============================] - 2s 9ms/step - loss: 0.0029 - accuracy: 0.9989\n",
      "Epoch 82/100\n",
      "194/194 [==============================] - 2s 8ms/step - loss: 0.0029 - accuracy: 0.9989\n",
      "Epoch 83/100\n",
      "194/194 [==============================] - 2s 9ms/step - loss: 0.0029 - accuracy: 0.9989\n",
      "Epoch 84/100\n",
      "194/194 [==============================] - 2s 8ms/step - loss: 0.0029 - accuracy: 0.9989\n",
      "Epoch 85/100\n",
      "194/194 [==============================] - 2s 9ms/step - loss: 0.0029 - accuracy: 0.9989\n",
      "Epoch 86/100\n",
      "194/194 [==============================] - 2s 8ms/step - loss: 0.0029 - accuracy: 0.9989\n",
      "Epoch 87/100\n",
      "194/194 [==============================] - 2s 9ms/step - loss: 0.0028 - accuracy: 0.9989\n",
      "Epoch 88/100\n",
      "194/194 [==============================] - 2s 8ms/step - loss: 0.0028 - accuracy: 0.9989\n",
      "Epoch 89/100\n",
      "194/194 [==============================] - 2s 8ms/step - loss: 0.0029 - accuracy: 0.9989\n",
      "Epoch 90/100\n",
      "194/194 [==============================] - 2s 8ms/step - loss: 0.0028 - accuracy: 0.9989\n",
      "Epoch 91/100\n",
      "194/194 [==============================] - 2s 8ms/step - loss: 0.0028 - accuracy: 0.9989\n",
      "Epoch 92/100\n",
      "194/194 [==============================] - 2s 9ms/step - loss: 0.0028 - accuracy: 0.9989\n",
      "Epoch 93/100\n",
      "194/194 [==============================] - 2s 9ms/step - loss: 0.0028 - accuracy: 0.9989\n",
      "Epoch 94/100\n",
      "194/194 [==============================] - 2s 9ms/step - loss: 0.0028 - accuracy: 0.9989\n",
      "Epoch 95/100\n",
      "194/194 [==============================] - 2s 8ms/step - loss: 0.0028 - accuracy: 0.9989\n",
      "Epoch 96/100\n",
      "194/194 [==============================] - 2s 9ms/step - loss: 0.0028 - accuracy: 0.9989\n",
      "Epoch 97/100\n",
      "194/194 [==============================] - 2s 10ms/step - loss: 0.0028 - accuracy: 0.9989\n",
      "Epoch 98/100\n",
      "194/194 [==============================] - 2s 8ms/step - loss: 0.0028 - accuracy: 0.9989\n",
      "Epoch 99/100\n",
      "194/194 [==============================] - 2s 8ms/step - loss: 0.0028 - accuracy: 0.9989\n",
      "Epoch 100/100\n",
      "194/194 [==============================] - 2s 8ms/step - loss: 0.0028 - accuracy: 0.9989\n"
     ]
    }
   ],
   "source": [
    "history = clf_model.fit(train_dataset, epochs=100)"
   ]
  },
  {
   "cell_type": "code",
   "execution_count": 71,
   "metadata": {},
   "outputs": [
    {
     "name": "stdout",
     "output_type": "stream",
     "text": [
      "49/49 [==============================] - 0s 3ms/step - loss: 0.5820 - accuracy: 0.9318\n",
      "test_acc: 0.932\n"
     ]
    }
   ],
   "source": [
    "# Convert X_test and y_test to a TensorFlow dataset\n",
    "test_dataset = tf.data.Dataset.from_tensor_slices((X_test.toarray(), y_test)).batch(32)\n",
    "\n",
    "# Evaluate the model on the test dataset\n",
    "test_loss, test_acc = clf_model.evaluate(test_dataset)\n",
    "print(f\"test_acc: {np.round(test_acc, 3)}\")"
   ]
  },
  {
   "cell_type": "code",
   "execution_count": 75,
   "metadata": {},
   "outputs": [
    {
     "name": "stdout",
     "output_type": "stream",
     "text": [
      "49/49 [==============================] - 0s 3ms/step\n",
      "              precision    recall  f1-score   support\n",
      "\n",
      "           0       0.92      0.95      0.93       783\n",
      "           1       0.95      0.91      0.93       764\n",
      "\n",
      "    accuracy                           0.93      1547\n",
      "   macro avg       0.93      0.93      0.93      1547\n",
      "weighted avg       0.93      0.93      0.93      1547\n",
      "\n"
     ]
    }
   ],
   "source": [
    "# inference\n",
    "y_pred_prob = clf_model.predict(X_test.toarray())\n",
    "y_pred_labels = (y_pred_prob > 0.5).astype(int)\n",
    "print(classification_report(y_test, y_pred_labels))"
   ]
  }
 ],
 "metadata": {
  "kernelspec": {
   "display_name": "base",
   "language": "python",
   "name": "python3"
  },
  "language_info": {
   "codemirror_mode": {
    "name": "ipython",
    "version": 3
   },
   "file_extension": ".py",
   "mimetype": "text/x-python",
   "name": "python",
   "nbconvert_exporter": "python",
   "pygments_lexer": "ipython3",
   "version": "3.11.5"
  }
 },
 "nbformat": 4,
 "nbformat_minor": 2
}
