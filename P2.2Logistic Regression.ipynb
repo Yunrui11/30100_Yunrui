{
 "cells": [
  {
   "cell_type": "markdown",
   "metadata": {},
   "source": [
    "### Logistic Regression Modles \n",
    "\n",
    "- explore logistic regression with l1 and l2 penalty, and different magnitude of C values\n",
    "- explore other parameter settings that could potentially affect your model performance, find a model that works best on your data\n",
    "- interpret model performance and discuss pros and cons of each model\n"
   ]
  },
  {
   "cell_type": "code",
   "execution_count": 35,
   "metadata": {},
   "outputs": [],
   "source": [
    "import numpy as np\n",
    "import pandas as pd\n",
    "import matplotlib.pyplot as plt\n",
    "import seaborn as sns\n",
    "from sklearn.linear_model import LogisticRegression\n",
    "from sklearn.model_selection import train_test_split"
   ]
  },
  {
   "cell_type": "markdown",
   "metadata": {},
   "source": [
    "### Data overview"
   ]
  },
  {
   "cell_type": "markdown",
   "metadata": {},
   "source": [
    "* Link of my dataset: https://www.kaggle.com/datasets/infamouscoder/depression-reddit-cleaned *"
   ]
  },
  {
   "cell_type": "code",
   "execution_count": 3,
   "metadata": {},
   "outputs": [],
   "source": [
    "# read data from file to a pandas dataframe\n",
    "path = '/Users/pro/Desktop/Winter 2024/30100/30100_Yunrui/Reddit_depression.csv'\n",
    "df = pd.read_csv(path) "
   ]
  },
  {
   "cell_type": "code",
   "execution_count": 4,
   "metadata": {},
   "outputs": [
    {
     "name": "stdout",
     "output_type": "stream",
     "text": [
      "(7731, 2)\n"
     ]
    }
   ],
   "source": [
    "# check the shape of the data frame\n",
    "print(df.shape)"
   ]
  },
  {
   "cell_type": "code",
   "execution_count": 5,
   "metadata": {},
   "outputs": [
    {
     "data": {
      "text/html": [
       "<div>\n",
       "<style scoped>\n",
       "    .dataframe tbody tr th:only-of-type {\n",
       "        vertical-align: middle;\n",
       "    }\n",
       "\n",
       "    .dataframe tbody tr th {\n",
       "        vertical-align: top;\n",
       "    }\n",
       "\n",
       "    .dataframe thead th {\n",
       "        text-align: right;\n",
       "    }\n",
       "</style>\n",
       "<table border=\"1\" class=\"dataframe\">\n",
       "  <thead>\n",
       "    <tr style=\"text-align: right;\">\n",
       "      <th></th>\n",
       "      <th>clean_text</th>\n",
       "      <th>is_depression</th>\n",
       "    </tr>\n",
       "  </thead>\n",
       "  <tbody>\n",
       "    <tr>\n",
       "      <th>0</th>\n",
       "      <td>we understand that most people who reply immed...</td>\n",
       "      <td>1</td>\n",
       "    </tr>\n",
       "    <tr>\n",
       "      <th>1</th>\n",
       "      <td>welcome to r depression s check in post a plac...</td>\n",
       "      <td>1</td>\n",
       "    </tr>\n",
       "    <tr>\n",
       "      <th>2</th>\n",
       "      <td>anyone else instead of sleeping more when depr...</td>\n",
       "      <td>1</td>\n",
       "    </tr>\n",
       "    <tr>\n",
       "      <th>3</th>\n",
       "      <td>i ve kind of stuffed around a lot in my life d...</td>\n",
       "      <td>1</td>\n",
       "    </tr>\n",
       "    <tr>\n",
       "      <th>4</th>\n",
       "      <td>sleep is my greatest and most comforting escap...</td>\n",
       "      <td>1</td>\n",
       "    </tr>\n",
       "  </tbody>\n",
       "</table>\n",
       "</div>"
      ],
      "text/plain": [
       "                                          clean_text  is_depression\n",
       "0  we understand that most people who reply immed...              1\n",
       "1  welcome to r depression s check in post a plac...              1\n",
       "2  anyone else instead of sleeping more when depr...              1\n",
       "3  i ve kind of stuffed around a lot in my life d...              1\n",
       "4  sleep is my greatest and most comforting escap...              1"
      ]
     },
     "execution_count": 5,
     "metadata": {},
     "output_type": "execute_result"
    }
   ],
   "source": [
    "# get an overview of the top-n rows/samples\n",
    "df.head()"
   ]
  },
  {
   "cell_type": "code",
   "execution_count": 6,
   "metadata": {},
   "outputs": [
    {
     "data": {
      "text/html": [
       "<div>\n",
       "<style scoped>\n",
       "    .dataframe tbody tr th:only-of-type {\n",
       "        vertical-align: middle;\n",
       "    }\n",
       "\n",
       "    .dataframe tbody tr th {\n",
       "        vertical-align: top;\n",
       "    }\n",
       "\n",
       "    .dataframe thead th {\n",
       "        text-align: right;\n",
       "    }\n",
       "</style>\n",
       "<table border=\"1\" class=\"dataframe\">\n",
       "  <thead>\n",
       "    <tr style=\"text-align: right;\">\n",
       "      <th></th>\n",
       "      <th>clean_text</th>\n",
       "      <th>is_depression</th>\n",
       "    </tr>\n",
       "  </thead>\n",
       "  <tbody>\n",
       "    <tr>\n",
       "      <th>0</th>\n",
       "      <td>we understand that most people who reply immed...</td>\n",
       "      <td>1</td>\n",
       "    </tr>\n",
       "    <tr>\n",
       "      <th>1</th>\n",
       "      <td>welcome to r depression s check in post a plac...</td>\n",
       "      <td>1</td>\n",
       "    </tr>\n",
       "    <tr>\n",
       "      <th>2</th>\n",
       "      <td>anyone else instead of sleeping more when depr...</td>\n",
       "      <td>1</td>\n",
       "    </tr>\n",
       "    <tr>\n",
       "      <th>3</th>\n",
       "      <td>i ve kind of stuffed around a lot in my life d...</td>\n",
       "      <td>1</td>\n",
       "    </tr>\n",
       "    <tr>\n",
       "      <th>4</th>\n",
       "      <td>sleep is my greatest and most comforting escap...</td>\n",
       "      <td>1</td>\n",
       "    </tr>\n",
       "  </tbody>\n",
       "</table>\n",
       "</div>"
      ],
      "text/plain": [
       "                                          clean_text  is_depression\n",
       "0  we understand that most people who reply immed...              1\n",
       "1  welcome to r depression s check in post a plac...              1\n",
       "2  anyone else instead of sleeping more when depr...              1\n",
       "3  i ve kind of stuffed around a lot in my life d...              1\n",
       "4  sleep is my greatest and most comforting escap...              1"
      ]
     },
     "execution_count": 6,
     "metadata": {},
     "output_type": "execute_result"
    }
   ],
   "source": [
    "df.head()"
   ]
  },
  {
   "cell_type": "code",
   "execution_count": 7,
   "metadata": {},
   "outputs": [
    {
     "data": {
      "text/plain": [
       "clean_text       0\n",
       "is_depression    0\n",
       "dtype: int64"
      ]
     },
     "execution_count": 7,
     "metadata": {},
     "output_type": "execute_result"
    }
   ],
   "source": [
    "# this dataset has been cleaned, so there is no missing value\n",
    "null_sum = df.isnull().sum()\n",
    "null_sum"
   ]
  },
  {
   "cell_type": "code",
   "execution_count": 8,
   "metadata": {},
   "outputs": [
    {
     "data": {
      "text/plain": [
       "clean_text       object\n",
       "is_depression     int64\n",
       "dtype: object"
      ]
     },
     "execution_count": 8,
     "metadata": {},
     "output_type": "execute_result"
    }
   ],
   "source": [
    "# check the data type of each column\n",
    "# find out the clean_text is not string type, but we need string for text analysis\n",
    "df.dtypes "
   ]
  },
  {
   "cell_type": "code",
   "execution_count": 9,
   "metadata": {},
   "outputs": [
    {
     "data": {
      "text/plain": [
       "clean_text       string[python]\n",
       "is_depression             int64\n",
       "dtype: object"
      ]
     },
     "execution_count": 9,
     "metadata": {},
     "output_type": "execute_result"
    }
   ],
   "source": [
    "# convert clean_text to string type\n",
    "df['clean_text'] = df['clean_text'].astype('string')\n",
    "df.dtypes"
   ]
  },
  {
   "cell_type": "code",
   "execution_count": 10,
   "metadata": {},
   "outputs": [
    {
     "data": {
      "text/plain": [
       "<Axes: xlabel='is_depression', ylabel='count'>"
      ]
     },
     "execution_count": 10,
     "metadata": {},
     "output_type": "execute_result"
    },
    {
     "data": {
      "image/png": "[encoded data removed]",
      "text/plain": [
       "<Figure size 640x480 with 1 Axes>"
      ]
     },
     "metadata": {},
     "output_type": "display_data"
    }
   ],
   "source": [
    "# this indicates that our dataset is pretty balanced\n",
    "sns.countplot(data=df,x=\"is_depression\")"
   ]
  },
  {
   "cell_type": "markdown",
   "metadata": {},
   "source": [
    "#### Text transformation \n",
    "- tokenization, stemming, lemmatization"
   ]
  },
  {
   "cell_type": "code",
   "execution_count": 11,
   "metadata": {},
   "outputs": [],
   "source": [
    "import nltk\n",
    "from nltk import word_tokenize\n",
    "from nltk.stem import WordNetLemmatizer"
   ]
  },
  {
   "cell_type": "code",
   "execution_count": 12,
   "metadata": {},
   "outputs": [],
   "source": [
    "# lower case all words\n",
    "df['clean_text'] = df['clean_text'].apply(lambda x: \" \".join(x.lower() for x in x.split()))"
   ]
  },
  {
   "cell_type": "code",
   "execution_count": 13,
   "metadata": {},
   "outputs": [],
   "source": [
    "def remove_non_alphabetic(text):\n",
    "    return ''.join(char if char.isalpha() or char.isspace() else '' for char in text)"
   ]
  },
  {
   "cell_type": "code",
   "execution_count": 14,
   "metadata": {},
   "outputs": [
    {
     "data": {
      "text/plain": [
       "'i ve kind of stuffed around a lot in my life delaying the inevitable of having to work a job and be a responsible adult and i m but the longest i ve ever held a job wa  month it wasn t that i m lazy i wa always doing other thing i enjoy but i know now unemployment ha caused most of my depression recently i just feel utterly hopeless when i think soon enough i ll have to move out on my own in some shitty house working a job i couldn t care le about to me it just seems like the perfect recipe to depression'"
      ]
     },
     "execution_count": 14,
     "metadata": {},
     "output_type": "execute_result"
    }
   ],
   "source": [
    "# remove non alphabetic characters\n",
    "# wwe also see that the sentence has been stemmed, we only need to lemmatize it\n",
    "df['clean_text'] = df['clean_text'].apply(remove_non_alphabetic)\n",
    "df['clean_text'][3]"
   ]
  },
  {
   "cell_type": "code",
   "execution_count": 15,
   "metadata": {},
   "outputs": [],
   "source": [
    "lemmatizer = WordNetLemmatizer()"
   ]
  },
  {
   "cell_type": "code",
   "execution_count": 16,
   "metadata": {},
   "outputs": [],
   "source": [
    "# tokenize, lemmatize the text\n",
    "text_lst = []\n",
    "for i in df['clean_text']:\n",
    "    tokens = word_tokenize(i)\n",
    "    text = [lemmatizer.lemmatize(word) for word in tokens]\n",
    "    text = \" \".join(text)\n",
    "    text_lst.append(text)"
   ]
  },
  {
   "cell_type": "code",
   "execution_count": 17,
   "metadata": {},
   "outputs": [
    {
     "data": {
      "text/plain": [
       "7731"
      ]
     },
     "execution_count": 17,
     "metadata": {},
     "output_type": "execute_result"
    }
   ],
   "source": [
    "len(text_lst)"
   ]
  },
  {
   "cell_type": "markdown",
   "metadata": {},
   "source": [
    "#### Feature Engineering\n",
    "- CountVectorizer\n",
    "- TfidfVectorizer"
   ]
  },
  {
   "cell_type": "markdown",
   "metadata": {},
   "source": [
    "*CountVectorizer*"
   ]
  },
  {
   "cell_type": "code",
   "execution_count": 18,
   "metadata": {},
   "outputs": [],
   "source": [
    "from sklearn.feature_extraction.text import CountVectorizer"
   ]
  },
  {
   "cell_type": "code",
   "execution_count": 19,
   "metadata": {},
   "outputs": [],
   "source": [
    "vectorizer = CountVectorizer(min_df=10, max_df=0.8,ngram_range=(1,1),binary=False,stop_words='english',max_features=1000)\n",
    "X = vectorizer.fit_transform(text_lst)"
   ]
  },
  {
   "cell_type": "code",
   "execution_count": 20,
   "metadata": {},
   "outputs": [
    {
     "data": {
      "text/plain": [
       "(7731, 1000)"
      ]
     },
     "execution_count": 20,
     "metadata": {},
     "output_type": "execute_result"
    }
   ],
   "source": [
    "# check the feature matrix of the vectorized corpus\n",
    "X.shape"
   ]
  },
  {
   "cell_type": "code",
   "execution_count": 21,
   "metadata": {},
   "outputs": [
    {
     "data": {
      "text/plain": [
       "array(['able', 'absolutely', 'abuse', 'abusive', 'accept', 'accident',\n",
       "       'account', 'act', 'action', 'actually', 'add', 'adhd', 'adult',\n",
       "       'advice', 'affect', 'afford', 'afraid', 'age', 'ago', 'air',\n",
       "       'alcohol', 'alive', 'allowed', 'alot', 'amazing', 'amp', 'anger',\n",
       "       'angry', 'annoying', 'answer', 'antidepressant', 'anxiety',\n",
       "       'anxious', 'anybody', 'anymore', 'anyways', 'apart', 'apartment',\n",
       "       'apparently', 'appointment', 'appreciate', 'area', 'aren', 'arm',\n",
       "       'ask', 'asked', 'asking', 'asleep', 'attack', 'attempt',\n",
       "       'attempted', 'attention', 'avoid', 'awake', 'aware', 'away',\n",
       "       'awful', 'awkward', 'baby', 'bad', 'badly', 'bar', 'barely',\n",
       "       'basic', 'basically', 'bathroom', 'battle', 'bc', 'beat',\n",
       "       'beautiful', 'bed', 'begin', 'beginning', 'believe', 'best',\n",
       "       'better', 'big', 'biggest', 'bipolar', 'birthday', 'bit', 'black',\n",
       "       'blame', 'blood', 'body', 'book', 'bored', 'boring', 'born', 'bos',\n",
       "       'bother', 'bought', 'boy', 'boyfriend', 'brain', 'break',\n",
       "       'breakdown', 'breaking', 'breath', 'breathe', 'breathing', 'bring',\n",
       "       'broke', 'broken', 'brother', 'brought', 'bullied', 'bullshit',\n",
       "       'bunch', 'burden', 'business', 'busy', 'buy', 'called', 'calm',\n",
       "       'came', 'cancer', 'car', 'care', 'cared', 'career', 'case', 'cat',\n",
       "       'cause', 'caused', 'causing', 'certain', 'chance', 'change',\n",
       "       'changed', 'check', 'chest', 'child', 'childhood', 'choice',\n",
       "       'choose', 'city', 'class', 'clean', 'clear', 'close', 'coffee',\n",
       "       'cold', 'college', 'com', 'come', 'comfort', 'comfortable',\n",
       "       'coming', 'comment', 'common', 'community', 'company', 'complete',\n",
       "       'completely', 'condition', 'confidence', 'confident', 'confused',\n",
       "       'considering', 'constant', 'constantly', 'contact', 'continue',\n",
       "       'control', 'conversation', 'cool', 'cope', 'coping', 'couldn',\n",
       "       'country', 'couple', 'courage', 'course', 'covid', 'crazy',\n",
       "       'cried', 'current', 'currently', 'cut', 'cycle', 'dad', 'daily',\n",
       "       'damn', 'dark', 'date', 'dating', 'daughter', 'day', 'dead',\n",
       "       'deal', 'dealing', 'death', 'debt', 'decent', 'decide', 'decided',\n",
       "       'decision', 'deep', 'definitely', 'degree', 'depressed',\n",
       "       'depression', 'depressive', 'deserve', 'despite', 'developed',\n",
       "       'diagnosed', 'diagnosis', 'did', 'didn', 'didnt', 'die', 'died',\n",
       "       'difference', 'different', 'difficult', 'dinner', 'disease',\n",
       "       'disorder', 'doctor', 'doe', 'doesn', 'doesnt', 'dog', 'doing',\n",
       "       'don', 'dont', 'door', 'dose', 'doubt', 'dread', 'dream', 'drink',\n",
       "       'drinking', 'drive', 'driving', 'drop', 'drug', 'drunk', 'dumb',\n",
       "       'dying', 'earlier', 'early', 'earth', 'easier', 'easy', 'eat',\n",
       "       'eating', 'edge', 'edit', 'effect', 'effort', 'emotion',\n",
       "       'emotional', 'emotionally', 'en', 'end', 'ended', 'ending',\n",
       "       'energy', 'english', 'enjoy', 'entire', 'episode', 'escape',\n",
       "       'especially', 'est', 'event', 'eventually', 'everybody',\n",
       "       'everyday', 'everytime', 'ex', 'exactly', 'exam', 'example',\n",
       "       'excited', 'excuse', 'exercise', 'exhausted', 'exhausting',\n",
       "       'exist', 'existence', 'expect', 'experience', 'experienced',\n",
       "       'experiencing', 'explain', 'express', 'extra', 'extreme',\n",
       "       'extremely', 'eye', 'face', 'fact', 'fail', 'failed', 'failing',\n",
       "       'failure', 'fake', 'fall', 'falling', 'family', 'far', 'fast',\n",
       "       'father', 'fault', 'fear', 'feel', 'feeling', 'fell', 'felt',\n",
       "       'fight', 'fighting', 'figure', 'final', 'finally', 'finding',\n",
       "       'fine', 'finish', 'finished', 'fit', 'fix', 'focus', 'follow',\n",
       "       'food', 'foot', 'force', 'forced', 'forever', 'forget', 'forgot',\n",
       "       'form', 'forward', 'freaking', 'free', 'friend', 'friendship',\n",
       "       'fuck', 'fucked', 'fucking', 'fully', 'fun', 'function', 'funny',\n",
       "       'future', 'game', 'gave', 'general', 'genuinely', 'getting',\n",
       "       'girl', 'girlfriend', 'given', 'giving', 'glad', 'goal', 'god',\n",
       "       'going', 'gon', 'gone', 'good', 'goodbye', 'got', 'gotten',\n",
       "       'grade', 'graduated', 'great', 'group', 'grow', 'growing', 'gt',\n",
       "       'guess', 'guilt', 'guilty', 'guy', 'gym', 'ha', 'haha', 'hair',\n",
       "       'half', 'hand', 'handle', 'hang', 'hanging', 'happen', 'happened',\n",
       "       'happening', 'happens', 'happiness', 'happy', 'hard', 'harder',\n",
       "       'harm', 'hasn', 'hate', 'haven', 'having', 'head', 'headache',\n",
       "       'health', 'healthy', 'hear', 'heard', 'heart', 'hell', 'hello',\n",
       "       'help', 'helped', 'helping', 'hey', 'hi', 'hide', 'high', 'hit',\n",
       "       'hobby', 'hold', 'holding', 'hole', 'holiday', 'home', 'homework',\n",
       "       'honest', 'honestly', 'hope', 'hopefully', 'hopeless', 'hoping',\n",
       "       'horrible', 'hospital', 'hot', 'hour', 'house', 'http', 'hug',\n",
       "       'huge', 'human', 'hurt', 'hurting', 'husband', 'idea', 'idk',\n",
       "       'ill', 'illness', 'im', 'imagine', 'immediately', 'important',\n",
       "       'impossible', 'including', 'incredibly', 'insane', 'inside',\n",
       "       'instead', 'intense', 'interested', 'interesting', 'internet',\n",
       "       'interview', 'isn', 'issue', 'ive', 'job', 'joke', 'joy', 'just',\n",
       "       'keeping', 'kept', 'kick', 'kid', 'kill', 'killed', 'killing',\n",
       "       'kind', 'kinda', 'km', 'knew', 'know', 'knowing', 'known', 'la',\n",
       "       'lack', 'late', 'lately', 'later', 'laugh', 'lay', 'lazy', 'le',\n",
       "       'lead', 'learn', 'learning', 'leave', 'leaving', 'left', 'leg',\n",
       "       'let', 'letting', 'level', 'lexapro', 'lie', 'life', 'light',\n",
       "       'like', 'likely', 'line', 'list', 'listen', 'listening',\n",
       "       'literally', 'little', 'live', 'lived', 'living', 'll', 'lol',\n",
       "       'loneliness', 'lonely', 'long', 'longer', 'look', 'looked',\n",
       "       'looking', 'lose', 'loser', 'losing', 'loss', 'lost', 'lot',\n",
       "       'loud', 'love', 'loved', 'loving', 'low', 'lt', 'luck', 'lucky',\n",
       "       'lying', 'mad', 'main', 'major', 'make', 'making', 'male', 'man',\n",
       "       'manage', 'managed', 'matter', 'maybe', 'mean', 'meaning', 'meant',\n",
       "       'med', 'medical', 'medication', 'medicine', 'medium', 'meet',\n",
       "       'meeting', 'member', 'memory', 'men', 'mental', 'mentally',\n",
       "       'mention', 'mess', 'message', 'met', 'mg', 'middle', 'mind',\n",
       "       'minute', 'mirror', 'miserable', 'miss', 'missed', 'missing',\n",
       "       'mistake', 'mizzzidc', 'mom', 'moment', 'money', 'month', 'mood',\n",
       "       'morning', 'mother', 'motivation', 'moved', 'movie', 'moving',\n",
       "       'multiple', 'mum', 'music', 'na', 'near', 'nearly', 'need',\n",
       "       'needed', 'negative', 'nervous', 'new', 'news', 'nice', 'night',\n",
       "       'nightmare', 'non', 'normal', 'note', 'notice', 'noticed', 'numb',\n",
       "       'obviously', 'ocd', 'offer', 'office', 'oh', 'ok', 'okay', 'old',\n",
       "       'older', 'omg', 'online', 'open', 'opinion', 'opportunity',\n",
       "       'option', 'order', 'outside', 'overwhelmed', 'overwhelming', 'pa',\n",
       "       'page', 'pain', 'painful', 'pandemic', 'panic', 'parent',\n",
       "       'partner', 'party', 'passed', 'past', 'pathetic', 'pay', 'peace',\n",
       "       'people', 'perfect', 'period', 'person', 'personal', 'personality',\n",
       "       'phone', 'physical', 'physically', 'pick', 'picture', 'piece',\n",
       "       'pill', 'place', 'plan', 'planning', 'play', 'playing', 'plus',\n",
       "       'pm', 'point', 'pointless', 'poor', 'positive', 'possible', 'post',\n",
       "       'posting', 'prescribed', 'pression', 'pressure', 'pretty',\n",
       "       'probably', 'problem', 'process', 'progress', 'project',\n",
       "       'properly', 'proud', 'psychiatrist', 'public', 'purpose', 'push',\n",
       "       'putting', 'question', 'quickly', 'quiet', 'quit', 'quite', 'quot',\n",
       "       'random', 'rant', 'reach', 'read', 'reading', 'ready', 'real',\n",
       "       'reality', 'realize', 'realized', 'really', 'reason', 'recently',\n",
       "       'reddit', 'regret', 'relate', 'related', 'relationship',\n",
       "       'remember', 'reply', 'response', 'rest', 'result', 'rid', 'right',\n",
       "       'rn', 'room', 'ruin', 'ruined', 'run', 'running', 'sad', 'sadness',\n",
       "       'safe', 'said', 'sat', 'saw', 'say', 'saying', 'scare', 'scared',\n",
       "       'scary', 'school', 'second', 'seeing', 'seen', 'self', 'selfish',\n",
       "       'semester', 'send', 'sense', 'sent', 'seriously', 'session', 'set',\n",
       "       'severe', 'sex', 'shake', 'shaking', 'share', 'shit', 'shitty',\n",
       "       'shoe', 'short', 'shouldn', 'shower', 'shut', 'sick', 'sign',\n",
       "       'similar', 'simple', 'simply', 'single', 'sister', 'sit',\n",
       "       'sitting', 'situation', 'skin', 'sleep', 'sleeping', 'slow',\n",
       "       'slowly', 'small', 'smart', 'smile', 'smoke', 'smoking', 'social',\n",
       "       'society', 'solution', 'somebody', 'somewhat', 'son', 'song',\n",
       "       'soon', 'sorry', 'sort', 'soul', 'sound', 'space', 'speak',\n",
       "       'spend', 'spent', 'spiral', 'spot', 'stand', 'start', 'started',\n",
       "       'starting', 'state', 'stay', 'stayed', 'staying', 'step',\n",
       "       'stomach', 'stop', 'stopped', 'store', 'story', 'straight',\n",
       "       'stress', 'stressed', 'stressful', 'strong', 'struggle',\n",
       "       'struggled', 'struggling', 'stuck', 'student', 'study', 'studying',\n",
       "       'stuff', 'stupid', 'stutter', 'sub', 'suck', 'suddenly', 'suffer',\n",
       "       'suffered', 'suffering', 'suicidal', 'suicide', 'summer', 'sun',\n",
       "       'super', 'support', 'supposed', 'sure', 'survive', 'sweet',\n",
       "       'symptom', 'ta', 'taken', 'taking', 'talk', 'talked', 'talking',\n",
       "       'task', 'teacher', 'team', 'tear', 'tell', 'telling', 'term',\n",
       "       'terrible', 'terrified', 'test', 'text', 'th', 'thank', 'thanks',\n",
       "       'thats', 'theekween', 'thelmasherbs', 'therapist', 'therapy',\n",
       "       'thing', 'think', 'thinking', 'tho', 'thought', 'throat', 'throw',\n",
       "       'till', 'time', 'tip', 'tired', 'today', 'told', 'tomorrow', 'ton',\n",
       "       'tonight', 'took', 'totally', 'tough', 'town', 'toxic', 'train',\n",
       "       'trapped', 'trauma', 'traumatic', 'treat', 'treated', 'treatment',\n",
       "       'tried', 'trigger', 'trip', 'trouble', 'true', 'truly', 'trust',\n",
       "       'truth', 'try', 'trying', 'turn', 'turned', 'tweet', 'twice',\n",
       "       'twitter', 'type', 'ugh', 'ugly', 'unable', 'uncomfortable',\n",
       "       'understand', 'understanding', 'unfortunately', 'uni',\n",
       "       'university', 'unless', 'update', 'upset', 'ur', 'urge', 'use',\n",
       "       'used', 'useless', 'using', 'usual', 'usually', 've', 'vent',\n",
       "       'video', 'view', 'voice', 'wa', 'wait', 'waiting', 'wake',\n",
       "       'waking', 'walk', 'walking', 'wall', 'wan', 'want', 'wanted',\n",
       "       'wanting', 'wasn', 'waste', 'wasted', 'watch', 'watching', 'water',\n",
       "       'way', 'weak', 'weed', 'week', 'weekend', 'weight', 'weird',\n",
       "       'went', 'weren', 'wife', 'window', 'wish', 'woke', 'woman', 'won',\n",
       "       'wonder', 'wondering', 'wont', 'word', 'work', 'worked', 'working',\n",
       "       'world', 'worried', 'worry', 'worrying', 'worse', 'worst', 'worth',\n",
       "       'worthless', 'wouldn', 'write', 'writing', 'wrong', 'wrote', 'www',\n",
       "       'yeah', 'year', 'yes', 'yesterday', 'young', 'younger', 'zoloft'],\n",
       "      dtype=object)"
      ]
     },
     "execution_count": 21,
     "metadata": {},
     "output_type": "execute_result"
    }
   ],
   "source": [
    "# check the extracted features during the vectorization\n",
    "feature_names = vectorizer.get_feature_names_out()\n",
    "feature_names"
   ]
  },
  {
   "cell_type": "code",
   "execution_count": 22,
   "metadata": {},
   "outputs": [],
   "source": [
    "def get_topn_features(X, feature_names, topn=10):\n",
    "    \"\"\"\n",
    "    Inputs:\n",
    "        X: feature matrix\n",
    "        feature_names: extracted features during vectorization\n",
    "        topn: the number of most frequent features to return\n",
    "    Outputs:\n",
    "        topn most frequent features and their frequency\n",
    "    \"\"\"\n",
    "    feature_ct = np.asarray(np.sum(X, axis=0)).reshape(-1)\n",
    "\n",
    "    feature_freq = []\n",
    "    \n",
    "    for i in np.argsort(feature_ct)[::-1][:topn]:\n",
    "        feature_freq.append({'feature':feature_names[i], 'frequency':feature_ct[i]})\n",
    "    \n",
    "    return pd.DataFrame(feature_freq)"
   ]
  },
  {
   "cell_type": "code",
   "execution_count": 23,
   "metadata": {},
   "outputs": [
    {
     "data": {
      "text/html": [
       "<div>\n",
       "<style scoped>\n",
       "    .dataframe tbody tr th:only-of-type {\n",
       "        vertical-align: middle;\n",
       "    }\n",
       "\n",
       "    .dataframe tbody tr th {\n",
       "        vertical-align: top;\n",
       "    }\n",
       "\n",
       "    .dataframe thead th {\n",
       "        text-align: right;\n",
       "    }\n",
       "</style>\n",
       "<table border=\"1\" class=\"dataframe\">\n",
       "  <thead>\n",
       "    <tr style=\"text-align: right;\">\n",
       "      <th></th>\n",
       "      <th>feature</th>\n",
       "      <th>frequency</th>\n",
       "    </tr>\n",
       "  </thead>\n",
       "  <tbody>\n",
       "    <tr>\n",
       "      <th>0</th>\n",
       "      <td>just</td>\n",
       "      <td>4527</td>\n",
       "    </tr>\n",
       "    <tr>\n",
       "      <th>1</th>\n",
       "      <td>wa</td>\n",
       "      <td>3810</td>\n",
       "    </tr>\n",
       "    <tr>\n",
       "      <th>2</th>\n",
       "      <td>like</td>\n",
       "      <td>3584</td>\n",
       "    </tr>\n",
       "    <tr>\n",
       "      <th>3</th>\n",
       "      <td>feel</td>\n",
       "      <td>3227</td>\n",
       "    </tr>\n",
       "    <tr>\n",
       "      <th>4</th>\n",
       "      <td>don</td>\n",
       "      <td>3029</td>\n",
       "    </tr>\n",
       "    <tr>\n",
       "      <th>5</th>\n",
       "      <td>want</td>\n",
       "      <td>2292</td>\n",
       "    </tr>\n",
       "    <tr>\n",
       "      <th>6</th>\n",
       "      <td>know</td>\n",
       "      <td>2283</td>\n",
       "    </tr>\n",
       "    <tr>\n",
       "      <th>7</th>\n",
       "      <td>life</td>\n",
       "      <td>2147</td>\n",
       "    </tr>\n",
       "    <tr>\n",
       "      <th>8</th>\n",
       "      <td>ve</td>\n",
       "      <td>2096</td>\n",
       "    </tr>\n",
       "    <tr>\n",
       "      <th>9</th>\n",
       "      <td>time</td>\n",
       "      <td>2070</td>\n",
       "    </tr>\n",
       "    <tr>\n",
       "      <th>10</th>\n",
       "      <td>day</td>\n",
       "      <td>1688</td>\n",
       "    </tr>\n",
       "    <tr>\n",
       "      <th>11</th>\n",
       "      <td>people</td>\n",
       "      <td>1660</td>\n",
       "    </tr>\n",
       "    <tr>\n",
       "      <th>12</th>\n",
       "      <td>really</td>\n",
       "      <td>1617</td>\n",
       "    </tr>\n",
       "    <tr>\n",
       "      <th>13</th>\n",
       "      <td>depression</td>\n",
       "      <td>1569</td>\n",
       "    </tr>\n",
       "    <tr>\n",
       "      <th>14</th>\n",
       "      <td>anxiety</td>\n",
       "      <td>1548</td>\n",
       "    </tr>\n",
       "    <tr>\n",
       "      <th>15</th>\n",
       "      <td>thing</td>\n",
       "      <td>1534</td>\n",
       "    </tr>\n",
       "    <tr>\n",
       "      <th>16</th>\n",
       "      <td>year</td>\n",
       "      <td>1438</td>\n",
       "    </tr>\n",
       "    <tr>\n",
       "      <th>17</th>\n",
       "      <td>friend</td>\n",
       "      <td>1297</td>\n",
       "    </tr>\n",
       "    <tr>\n",
       "      <th>18</th>\n",
       "      <td>think</td>\n",
       "      <td>1280</td>\n",
       "    </tr>\n",
       "    <tr>\n",
       "      <th>19</th>\n",
       "      <td>going</td>\n",
       "      <td>1252</td>\n",
       "    </tr>\n",
       "  </tbody>\n",
       "</table>\n",
       "</div>"
      ],
      "text/plain": [
       "       feature  frequency\n",
       "0         just       4527\n",
       "1           wa       3810\n",
       "2         like       3584\n",
       "3         feel       3227\n",
       "4          don       3029\n",
       "5         want       2292\n",
       "6         know       2283\n",
       "7         life       2147\n",
       "8           ve       2096\n",
       "9         time       2070\n",
       "10         day       1688\n",
       "11      people       1660\n",
       "12      really       1617\n",
       "13  depression       1569\n",
       "14     anxiety       1548\n",
       "15       thing       1534\n",
       "16        year       1438\n",
       "17      friend       1297\n",
       "18       think       1280\n",
       "19       going       1252"
      ]
     },
     "execution_count": 23,
     "metadata": {},
     "output_type": "execute_result"
    }
   ],
   "source": [
    "get_topn_features(X, feature_names, topn=20)"
   ]
  },
  {
   "cell_type": "code",
   "execution_count": 24,
   "metadata": {},
   "outputs": [],
   "source": [
    "# vectorize the corpus in order to use it in the model later\n",
    "matrix_CV = vectorizer.fit_transform(text_lst).toarray() "
   ]
  },
  {
   "cell_type": "code",
   "execution_count": 25,
   "metadata": {},
   "outputs": [],
   "source": [
    "df_CV = pd.DataFrame(X.toarray(), columns=vectorizer.get_feature_names_out())"
   ]
  },
  {
   "cell_type": "markdown",
   "metadata": {},
   "source": [
    "*TfidfVectorizer*"
   ]
  },
  {
   "cell_type": "code",
   "execution_count": 26,
   "metadata": {},
   "outputs": [],
   "source": [
    "from sklearn.feature_extraction.text import TfidfVectorizer"
   ]
  },
  {
   "cell_type": "code",
   "execution_count": 27,
   "metadata": {},
   "outputs": [],
   "source": [
    "vectorizer2 = TfidfVectorizer(stop_words='english', ngram_range=(1, 1), min_df=10, max_df=0.8, max_features=1000)"
   ]
  },
  {
   "cell_type": "code",
   "execution_count": 28,
   "metadata": {},
   "outputs": [
    {
     "data": {
      "text/plain": [
       "(7731, 1000)"
      ]
     },
     "execution_count": 28,
     "metadata": {},
     "output_type": "execute_result"
    }
   ],
   "source": [
    "X = vectorizer2.fit_transform(text_lst)\n",
    "X.shape"
   ]
  },
  {
   "cell_type": "code",
   "execution_count": 29,
   "metadata": {},
   "outputs": [
    {
     "data": {
      "text/plain": [
       "array(['able', 'absolutely', 'abuse', 'abusive', 'accept', 'accident',\n",
       "       'account', 'act', 'action', 'actually', 'add', 'adhd', 'adult',\n",
       "       'advice', 'affect', 'afford', 'afraid', 'age', 'ago', 'air',\n",
       "       'alcohol', 'alive', 'allowed', 'alot', 'amazing', 'amp', 'anger',\n",
       "       'angry', 'annoying', 'answer', 'antidepressant', 'anxiety',\n",
       "       'anxious', 'anybody', 'anymore', 'anyways', 'apart', 'apartment',\n",
       "       'apparently', 'appointment', 'appreciate', 'area', 'aren', 'arm',\n",
       "       'ask', 'asked', 'asking', 'asleep', 'attack', 'attempt',\n",
       "       'attempted', 'attention', 'avoid', 'awake', 'aware', 'away',\n",
       "       'awful', 'awkward', 'baby', 'bad', 'badly', 'bar', 'barely',\n",
       "       'basic', 'basically', 'bathroom', 'battle', 'bc', 'beat',\n",
       "       'beautiful', 'bed', 'begin', 'beginning', 'believe', 'best',\n",
       "       'better', 'big', 'biggest', 'bipolar', 'birthday', 'bit', 'black',\n",
       "       'blame', 'blood', 'body', 'book', 'bored', 'boring', 'born', 'bos',\n",
       "       'bother', 'bought', 'boy', 'boyfriend', 'brain', 'break',\n",
       "       'breakdown', 'breaking', 'breath', 'breathe', 'breathing', 'bring',\n",
       "       'broke', 'broken', 'brother', 'brought', 'bullied', 'bullshit',\n",
       "       'bunch', 'burden', 'business', 'busy', 'buy', 'called', 'calm',\n",
       "       'came', 'cancer', 'car', 'care', 'cared', 'career', 'case', 'cat',\n",
       "       'cause', 'caused', 'causing', 'certain', 'chance', 'change',\n",
       "       'changed', 'check', 'chest', 'child', 'childhood', 'choice',\n",
       "       'choose', 'city', 'class', 'clean', 'clear', 'close', 'coffee',\n",
       "       'cold', 'college', 'com', 'come', 'comfort', 'comfortable',\n",
       "       'coming', 'comment', 'common', 'community', 'company', 'complete',\n",
       "       'completely', 'condition', 'confidence', 'confident', 'confused',\n",
       "       'considering', 'constant', 'constantly', 'contact', 'continue',\n",
       "       'control', 'conversation', 'cool', 'cope', 'coping', 'couldn',\n",
       "       'country', 'couple', 'courage', 'course', 'covid', 'crazy',\n",
       "       'cried', 'current', 'currently', 'cut', 'cycle', 'dad', 'daily',\n",
       "       'damn', 'dark', 'date', 'dating', 'daughter', 'day', 'dead',\n",
       "       'deal', 'dealing', 'death', 'debt', 'decent', 'decide', 'decided',\n",
       "       'decision', 'deep', 'definitely', 'degree', 'depressed',\n",
       "       'depression', 'depressive', 'deserve', 'despite', 'developed',\n",
       "       'diagnosed', 'diagnosis', 'did', 'didn', 'didnt', 'die', 'died',\n",
       "       'difference', 'different', 'difficult', 'dinner', 'disease',\n",
       "       'disorder', 'doctor', 'doe', 'doesn', 'doesnt', 'dog', 'doing',\n",
       "       'don', 'dont', 'door', 'dose', 'doubt', 'dread', 'dream', 'drink',\n",
       "       'drinking', 'drive', 'driving', 'drop', 'drug', 'drunk', 'dumb',\n",
       "       'dying', 'earlier', 'early', 'earth', 'easier', 'easy', 'eat',\n",
       "       'eating', 'edge', 'edit', 'effect', 'effort', 'emotion',\n",
       "       'emotional', 'emotionally', 'en', 'end', 'ended', 'ending',\n",
       "       'energy', 'english', 'enjoy', 'entire', 'episode', 'escape',\n",
       "       'especially', 'est', 'event', 'eventually', 'everybody',\n",
       "       'everyday', 'everytime', 'ex', 'exactly', 'exam', 'example',\n",
       "       'excited', 'excuse', 'exercise', 'exhausted', 'exhausting',\n",
       "       'exist', 'existence', 'expect', 'experience', 'experienced',\n",
       "       'experiencing', 'explain', 'express', 'extra', 'extreme',\n",
       "       'extremely', 'eye', 'face', 'fact', 'fail', 'failed', 'failing',\n",
       "       'failure', 'fake', 'fall', 'falling', 'family', 'far', 'fast',\n",
       "       'father', 'fault', 'fear', 'feel', 'feeling', 'fell', 'felt',\n",
       "       'fight', 'fighting', 'figure', 'final', 'finally', 'finding',\n",
       "       'fine', 'finish', 'finished', 'fit', 'fix', 'focus', 'follow',\n",
       "       'food', 'foot', 'force', 'forced', 'forever', 'forget', 'forgot',\n",
       "       'form', 'forward', 'freaking', 'free', 'friend', 'friendship',\n",
       "       'fuck', 'fucked', 'fucking', 'fully', 'fun', 'function', 'funny',\n",
       "       'future', 'game', 'gave', 'general', 'genuinely', 'getting',\n",
       "       'girl', 'girlfriend', 'given', 'giving', 'glad', 'goal', 'god',\n",
       "       'going', 'gon', 'gone', 'good', 'goodbye', 'got', 'gotten',\n",
       "       'grade', 'graduated', 'great', 'group', 'grow', 'growing', 'gt',\n",
       "       'guess', 'guilt', 'guilty', 'guy', 'gym', 'ha', 'haha', 'hair',\n",
       "       'half', 'hand', 'handle', 'hang', 'hanging', 'happen', 'happened',\n",
       "       'happening', 'happens', 'happiness', 'happy', 'hard', 'harder',\n",
       "       'harm', 'hasn', 'hate', 'haven', 'having', 'head', 'headache',\n",
       "       'health', 'healthy', 'hear', 'heard', 'heart', 'hell', 'hello',\n",
       "       'help', 'helped', 'helping', 'hey', 'hi', 'hide', 'high', 'hit',\n",
       "       'hobby', 'hold', 'holding', 'hole', 'holiday', 'home', 'homework',\n",
       "       'honest', 'honestly', 'hope', 'hopefully', 'hopeless', 'hoping',\n",
       "       'horrible', 'hospital', 'hot', 'hour', 'house', 'http', 'hug',\n",
       "       'huge', 'human', 'hurt', 'hurting', 'husband', 'idea', 'idk',\n",
       "       'ill', 'illness', 'im', 'imagine', 'immediately', 'important',\n",
       "       'impossible', 'including', 'incredibly', 'insane', 'inside',\n",
       "       'instead', 'intense', 'interested', 'interesting', 'internet',\n",
       "       'interview', 'isn', 'issue', 'ive', 'job', 'joke', 'joy', 'just',\n",
       "       'keeping', 'kept', 'kick', 'kid', 'kill', 'killed', 'killing',\n",
       "       'kind', 'kinda', 'km', 'knew', 'know', 'knowing', 'known', 'la',\n",
       "       'lack', 'late', 'lately', 'later', 'laugh', 'lay', 'lazy', 'le',\n",
       "       'lead', 'learn', 'learning', 'leave', 'leaving', 'left', 'leg',\n",
       "       'let', 'letting', 'level', 'lexapro', 'lie', 'life', 'light',\n",
       "       'like', 'likely', 'line', 'list', 'listen', 'listening',\n",
       "       'literally', 'little', 'live', 'lived', 'living', 'll', 'lol',\n",
       "       'loneliness', 'lonely', 'long', 'longer', 'look', 'looked',\n",
       "       'looking', 'lose', 'loser', 'losing', 'loss', 'lost', 'lot',\n",
       "       'loud', 'love', 'loved', 'loving', 'low', 'lt', 'luck', 'lucky',\n",
       "       'lying', 'mad', 'main', 'major', 'make', 'making', 'male', 'man',\n",
       "       'manage', 'managed', 'matter', 'maybe', 'mean', 'meaning', 'meant',\n",
       "       'med', 'medical', 'medication', 'medicine', 'medium', 'meet',\n",
       "       'meeting', 'member', 'memory', 'men', 'mental', 'mentally',\n",
       "       'mention', 'mess', 'message', 'met', 'mg', 'middle', 'mind',\n",
       "       'minute', 'mirror', 'miserable', 'miss', 'missed', 'missing',\n",
       "       'mistake', 'mizzzidc', 'mom', 'moment', 'money', 'month', 'mood',\n",
       "       'morning', 'mother', 'motivation', 'moved', 'movie', 'moving',\n",
       "       'multiple', 'mum', 'music', 'na', 'near', 'nearly', 'need',\n",
       "       'needed', 'negative', 'nervous', 'new', 'news', 'nice', 'night',\n",
       "       'nightmare', 'non', 'normal', 'note', 'notice', 'noticed', 'numb',\n",
       "       'obviously', 'ocd', 'offer', 'office', 'oh', 'ok', 'okay', 'old',\n",
       "       'older', 'omg', 'online', 'open', 'opinion', 'opportunity',\n",
       "       'option', 'order', 'outside', 'overwhelmed', 'overwhelming', 'pa',\n",
       "       'page', 'pain', 'painful', 'pandemic', 'panic', 'parent',\n",
       "       'partner', 'party', 'passed', 'past', 'pathetic', 'pay', 'peace',\n",
       "       'people', 'perfect', 'period', 'person', 'personal', 'personality',\n",
       "       'phone', 'physical', 'physically', 'pick', 'picture', 'piece',\n",
       "       'pill', 'place', 'plan', 'planning', 'play', 'playing', 'plus',\n",
       "       'pm', 'point', 'pointless', 'poor', 'positive', 'possible', 'post',\n",
       "       'posting', 'prescribed', 'pression', 'pressure', 'pretty',\n",
       "       'probably', 'problem', 'process', 'progress', 'project',\n",
       "       'properly', 'proud', 'psychiatrist', 'public', 'purpose', 'push',\n",
       "       'putting', 'question', 'quickly', 'quiet', 'quit', 'quite', 'quot',\n",
       "       'random', 'rant', 'reach', 'read', 'reading', 'ready', 'real',\n",
       "       'reality', 'realize', 'realized', 'really', 'reason', 'recently',\n",
       "       'reddit', 'regret', 'relate', 'related', 'relationship',\n",
       "       'remember', 'reply', 'response', 'rest', 'result', 'rid', 'right',\n",
       "       'rn', 'room', 'ruin', 'ruined', 'run', 'running', 'sad', 'sadness',\n",
       "       'safe', 'said', 'sat', 'saw', 'say', 'saying', 'scare', 'scared',\n",
       "       'scary', 'school', 'second', 'seeing', 'seen', 'self', 'selfish',\n",
       "       'semester', 'send', 'sense', 'sent', 'seriously', 'session', 'set',\n",
       "       'severe', 'sex', 'shake', 'shaking', 'share', 'shit', 'shitty',\n",
       "       'shoe', 'short', 'shouldn', 'shower', 'shut', 'sick', 'sign',\n",
       "       'similar', 'simple', 'simply', 'single', 'sister', 'sit',\n",
       "       'sitting', 'situation', 'skin', 'sleep', 'sleeping', 'slow',\n",
       "       'slowly', 'small', 'smart', 'smile', 'smoke', 'smoking', 'social',\n",
       "       'society', 'solution', 'somebody', 'somewhat', 'son', 'song',\n",
       "       'soon', 'sorry', 'sort', 'soul', 'sound', 'space', 'speak',\n",
       "       'spend', 'spent', 'spiral', 'spot', 'stand', 'start', 'started',\n",
       "       'starting', 'state', 'stay', 'stayed', 'staying', 'step',\n",
       "       'stomach', 'stop', 'stopped', 'store', 'story', 'straight',\n",
       "       'stress', 'stressed', 'stressful', 'strong', 'struggle',\n",
       "       'struggled', 'struggling', 'stuck', 'student', 'study', 'studying',\n",
       "       'stuff', 'stupid', 'stutter', 'sub', 'suck', 'suddenly', 'suffer',\n",
       "       'suffered', 'suffering', 'suicidal', 'suicide', 'summer', 'sun',\n",
       "       'super', 'support', 'supposed', 'sure', 'survive', 'sweet',\n",
       "       'symptom', 'ta', 'taken', 'taking', 'talk', 'talked', 'talking',\n",
       "       'task', 'teacher', 'team', 'tear', 'tell', 'telling', 'term',\n",
       "       'terrible', 'terrified', 'test', 'text', 'th', 'thank', 'thanks',\n",
       "       'thats', 'theekween', 'thelmasherbs', 'therapist', 'therapy',\n",
       "       'thing', 'think', 'thinking', 'tho', 'thought', 'throat', 'throw',\n",
       "       'till', 'time', 'tip', 'tired', 'today', 'told', 'tomorrow', 'ton',\n",
       "       'tonight', 'took', 'totally', 'tough', 'town', 'toxic', 'train',\n",
       "       'trapped', 'trauma', 'traumatic', 'treat', 'treated', 'treatment',\n",
       "       'tried', 'trigger', 'trip', 'trouble', 'true', 'truly', 'trust',\n",
       "       'truth', 'try', 'trying', 'turn', 'turned', 'tweet', 'twice',\n",
       "       'twitter', 'type', 'ugh', 'ugly', 'unable', 'uncomfortable',\n",
       "       'understand', 'understanding', 'unfortunately', 'uni',\n",
       "       'university', 'unless', 'update', 'upset', 'ur', 'urge', 'use',\n",
       "       'used', 'useless', 'using', 'usual', 'usually', 've', 'vent',\n",
       "       'video', 'view', 'voice', 'wa', 'wait', 'waiting', 'wake',\n",
       "       'waking', 'walk', 'walking', 'wall', 'wan', 'want', 'wanted',\n",
       "       'wanting', 'wasn', 'waste', 'wasted', 'watch', 'watching', 'water',\n",
       "       'way', 'weak', 'weed', 'week', 'weekend', 'weight', 'weird',\n",
       "       'went', 'weren', 'wife', 'window', 'wish', 'woke', 'woman', 'won',\n",
       "       'wonder', 'wondering', 'wont', 'word', 'work', 'worked', 'working',\n",
       "       'world', 'worried', 'worry', 'worrying', 'worse', 'worst', 'worth',\n",
       "       'worthless', 'wouldn', 'write', 'writing', 'wrong', 'wrote', 'www',\n",
       "       'yeah', 'year', 'yes', 'yesterday', 'young', 'younger', 'zoloft'],\n",
       "      dtype=object)"
      ]
     },
     "execution_count": 29,
     "metadata": {},
     "output_type": "execute_result"
    }
   ],
   "source": [
    "vectorizer2.get_feature_names_out()"
   ]
  },
  {
   "cell_type": "code",
   "execution_count": 30,
   "metadata": {},
   "outputs": [],
   "source": [
    "df_TF = pd.DataFrame(X.toarray(), columns=vectorizer2.get_feature_names_out())"
   ]
  },
  {
   "cell_type": "code",
   "execution_count": 31,
   "metadata": {},
   "outputs": [],
   "source": [
    "# vectorize the corpus in order to use it in the model later\n",
    "matrix2_TF = X.toarray()"
   ]
  },
  {
   "cell_type": "markdown",
   "metadata": {},
   "source": [
    "#### Logistic Regression"
   ]
  },
  {
   "cell_type": "markdown",
   "metadata": {},
   "source": [
    "- ### CountVectorizer Matrix "
   ]
  },
  {
   "cell_type": "code",
   "execution_count": 34,
   "metadata": {},
   "outputs": [
    {
     "data": {
      "text/plain": [
       "((5411, 1000), (2320, 1000))"
      ]
     },
     "execution_count": 34,
     "metadata": {},
     "output_type": "execute_result"
    }
   ],
   "source": [
    "#  Get the input feature matrix and target variable, prepare for model fitting\n",
    "x1 = matrix_CV\n",
    "y1 = df['is_depression']\n",
    "x1.shape, y1.shape\n",
    "# split the data into training and testing set\n",
    "x1_train, x1_test, y1_train, y1_test = train_test_split(x1, y1, test_size=0.3, random_state=42)\n",
    "x1_train.shape, x1_test.shape"
   ]
  },
  {
   "cell_type": "code",
   "execution_count": 41,
   "metadata": {},
   "outputs": [
    {
     "data": {
      "text/plain": [
       "0.956"
      ]
     },
     "execution_count": 41,
     "metadata": {},
     "output_type": "execute_result"
    }
   ],
   "source": [
    "# fit the logistic regression model without any regularization\n",
    "lg_None = LogisticRegression(random_state=0, solver='liblinear',).fit(x1_train, y1_train)\n",
    "score1 = np.round(lg_None.score(x1_test, y1_test), 3)\n",
    "score1"
   ]
  },
  {
   "cell_type": "code",
   "execution_count": 43,
   "metadata": {},
   "outputs": [
    {
     "data": {
      "text/plain": [
       "0.954"
      ]
     },
     "execution_count": 43,
     "metadata": {},
     "output_type": "execute_result"
    }
   ],
   "source": [
    "# fit the logistic regression model with L1 regularization\n",
    "lg_L1 = LogisticRegression(random_state=0, solver='liblinear', penalty='l1').fit(x1_train, y1_train)\n",
    "score2 = np.round(lg_L1.score(x1_test, y1_test), 3)\n",
    "score2"
   ]
  },
  {
   "cell_type": "code",
   "execution_count": 44,
   "metadata": {},
   "outputs": [
    {
     "data": {
      "text/plain": [
       "0.956"
      ]
     },
     "execution_count": 44,
     "metadata": {},
     "output_type": "execute_result"
    }
   ],
   "source": [
    "# fit the logistic regression model with L2 regularization\n",
    "lg_L2 = LogisticRegression(random_state=0, solver='liblinear', penalty='l2').fit(x1_train, y1_train)\n",
    "score3 = np.round(lg_L2.score(x1_test, y1_test), 3)\n",
    "score3"
   ]
  },
  {
   "cell_type": "code",
   "execution_count": 53,
   "metadata": {},
   "outputs": [
    {
     "data": {
      "text/plain": [
       "0.956"
      ]
     },
     "execution_count": 53,
     "metadata": {},
     "output_type": "execute_result"
    }
   ],
   "source": [
    "# change the class weight to balanced\n",
    "lg_1 = LogisticRegression(random_state=0, solver='liblinear', class_weight='balanced').fit(x1_train, y1_train)\n",
    "score4 = np.round(lg_1.score(x1_test, y1_test), 3)\n",
    "score4"
   ]
  },
  {
   "cell_type": "code",
   "execution_count": 46,
   "metadata": {},
   "outputs": [
    {
     "data": {
      "text/plain": [
       "0.884"
      ]
     },
     "execution_count": 46,
     "metadata": {},
     "output_type": "execute_result"
    }
   ],
   "source": [
    "# do not fit intercept \n",
    "lg_2 = LogisticRegression(random_state=0, solver='liblinear', fit_intercept=False).fit(x1_train, y1_train)\n",
    "score5 = np.round(lg_2.score(x1_test, y1_test), 3)\n",
    "score5"
   ]
  },
  {
   "cell_type": "code",
   "execution_count": 47,
   "metadata": {},
   "outputs": [
    {
     "data": {
      "text/plain": [
       "(0.952, 0.947, 0.925)"
      ]
     },
     "execution_count": 47,
     "metadata": {},
     "output_type": "execute_result"
    }
   ],
   "source": [
    "# different complexity of the model\n",
    "lg_3 = LogisticRegression(random_state=0, solver='liblinear', C=0.1).fit(x1_train, y1_train)\n",
    "score6 = np.round(lg_3.score(x1_test, y1_test), 3)\n",
    "lg_4 = LogisticRegression(random_state=0, solver='liblinear', C=10).fit(x1_train, y1_train)\n",
    "score7 = np.round(lg_4.score(x1_test, y1_test), 3)\n",
    "lg_5 = LogisticRegression(random_state=0, solver='liblinear', C=100).fit(x1_train, y1_train)\n",
    "score8 = np.round(lg_5.score(x1_test, y1_test), 3)\n",
    "score6, score7, score8  "
   ]
  },
  {
   "cell_type": "markdown",
   "metadata": {},
   "source": [
    "- ### TfidfVectorizer Matrix"
   ]
  },
  {
   "cell_type": "code",
   "execution_count": 48,
   "metadata": {},
   "outputs": [
    {
     "data": {
      "text/plain": [
       "((5411, 1000), (2320, 1000))"
      ]
     },
     "execution_count": 48,
     "metadata": {},
     "output_type": "execute_result"
    }
   ],
   "source": [
    "#  Get the input feature matrix and target variable, prepare for model fitting\n",
    "x2 = matrix2_TF\n",
    "y2 = df['is_depression']\n",
    "x2.shape, y2.shape\n",
    "# split the data into training and testing set\n",
    "x2_train, x2_test, y2_train, y2_test = train_test_split(x1, y1, test_size=0.3, random_state=42)\n",
    "x2_train.shape, x2_test.shape"
   ]
  },
  {
   "cell_type": "code",
   "execution_count": 51,
   "metadata": {},
   "outputs": [
    {
     "data": {
      "text/plain": [
       "0.956"
      ]
     },
     "execution_count": 51,
     "metadata": {},
     "output_type": "execute_result"
    }
   ],
   "source": [
    "# fit the logistic regression model without any regularization\n",
    "lg_tf_None = LogisticRegression(random_state=0, solver='liblinear',).fit(x2_train, y2_train)\n",
    "score9 = np.round(lg_tf_None.score(x2_test, y2_test), 3)\n",
    "score9"
   ]
  },
  {
   "cell_type": "code",
   "execution_count": 54,
   "metadata": {},
   "outputs": [
    {
     "data": {
      "text/plain": [
       "0.956"
      ]
     },
     "execution_count": 54,
     "metadata": {},
     "output_type": "execute_result"
    }
   ],
   "source": [
    "# fit the logistic regression model with L1 regularization\n",
    "lg_tf_L1 = LogisticRegression(random_state=0, solver='liblinear', penalty='l1').fit(x2_train, y2_train)\n",
    "score10 = np.round(lg_tf_L1.score(x2_test, y2_test), 3)\n",
    "score9"
   ]
  },
  {
   "cell_type": "code",
   "execution_count": 55,
   "metadata": {},
   "outputs": [
    {
     "data": {
      "text/plain": [
       "0.956"
      ]
     },
     "execution_count": 55,
     "metadata": {},
     "output_type": "execute_result"
    }
   ],
   "source": [
    "# fit the logistic regression model with L2 regularization\n",
    "lg_tf_L2 = LogisticRegression(random_state=0, solver='liblinear', penalty='l2').fit(x2_train, y2_train)\n",
    "score11 = np.round(lg_tf_L2.score(x2_test, y2_test), 3)\n",
    "score11"
   ]
  },
  {
   "cell_type": "code",
   "execution_count": 56,
   "metadata": {},
   "outputs": [
    {
     "data": {
      "text/plain": [
       "0.956"
      ]
     },
     "execution_count": 56,
     "metadata": {},
     "output_type": "execute_result"
    }
   ],
   "source": [
    "# change the class weight to balanced\n",
    "lg_tf_1 = LogisticRegression(random_state=0, solver='liblinear', class_weight='balanced').fit(x2_train, y2_train)\n",
    "score12 = np.round(lg_tf_1.score(x2_test, y2_test), 3)\n",
    "score12"
   ]
  },
  {
   "cell_type": "code",
   "execution_count": 57,
   "metadata": {},
   "outputs": [
    {
     "data": {
      "text/plain": [
       "0.884"
      ]
     },
     "execution_count": 57,
     "metadata": {},
     "output_type": "execute_result"
    }
   ],
   "source": [
    "# do not fit intercept \n",
    "lg_tf_L1 = LogisticRegression(random_state=0, solver='liblinear', fit_intercept=False).fit(x2_train, y2_train)\n",
    "score13 = np.round(lg_tf_L1.score(x2_test, y2_test), 3)\n",
    "score13"
   ]
  },
  {
   "cell_type": "code",
   "execution_count": 58,
   "metadata": {},
   "outputs": [
    {
     "data": {
      "text/plain": [
       "(0.952, 0.947, 0.925)"
      ]
     },
     "execution_count": 58,
     "metadata": {},
     "output_type": "execute_result"
    }
   ],
   "source": [
    "# different complexity of the model\n",
    "lg_tf_L2 = LogisticRegression(random_state=0, solver='liblinear', C=0.1).fit(x2_train, y2_train)\n",
    "score14 = np.round(lg_tf_L2.score(x2_test, y2_test), 3)\n",
    "lg_tf_L3 = LogisticRegression(random_state=0, solver='liblinear', C=10).fit(x2_train, y2_train)\n",
    "score15 = np.round(lg_tf_L3.score(x2_test, y2_test), 3)\n",
    "lg_tf_L4 = LogisticRegression(random_state=0, solver='liblinear', C=100).fit(x2_train, y2_train)\n",
    "score16 = np.round(lg_tf_L4.score(x2_test, y2_test), 3)\n",
    "score14, score15, score16"
   ]
  },
  {
   "cell_type": "markdown",
   "metadata": {},
   "source": [
    "### Summary "
   ]
  },
  {
   "cell_type": "markdown",
   "metadata": {},
   "source": [
    "- After performing various logistic regression models by adjusting penalties, complexity, and balanced weights, it became evident that the default settings actually yield the best results for our sample. \n",
    "- Moreover, the TfidfVectorizer and CountVectorizer exhibit no substantial differences; this finding aligns with results observed when fitting tree models. When compared to tree models, logistic regression demonstrates an overall superior performance. This can be attributed to its ability to handle both binary classification efficiently. \n",
    "- Finally, the reason why logistic regression outperforms other models overall lies in the nature of the question I sought to address with this dataset: building a depression detection model based on textual data. Given that this is a classic classification scenario with a binary dependent variable, logistic regression emerges as an ideal choice. Its ability to predict the likelihood of depression for each text entry makes it particularly well-suited for this task, thus solidifying its superiority in addressing the underlying question.\n",
    "\n",
    "### Additionally, logistic regression offers several advantages:\n",
    "\n",
    "Pros:\n",
    "- Regularization: By adjusting L1 and L2 penalties, logistic regression can effectively prevent overfitting and improve generalization performance.\n",
    "- Probability Estimation: Logistic regression outputs probabilities of class membership, enabling decision-making based on confidence levels.\n",
    "- the complexity parameter 'C' in logistic regression provides a means to control the balance between model complexity and generalization performance, allowing practitioners to tailor the model to the specific characteristics of the dataset and the problem at hand.\n",
    "\n",
    "Cons:\n",
    "- Assumption of Linearity: Logistic regression assumes a linear relationship between predictor variables, which may not always hold true in practice.\n",
    "- Logistic regression is less flexible in capturing complex, non-linear relationships compared to some other machine learning algorithms.\n",
    "- High multicollinearity among predictor variables can lead to unstable coefficient estimates and reduced interpretability."
   ]
  }
 ],
 "metadata": {
  "kernelspec": {
   "display_name": "Python 3",
   "language": "python",
   "name": "python3"
  },
  "language_info": {
   "codemirror_mode": {
    "name": "ipython",
    "version": 3
   },
   "file_extension": ".py",
   "mimetype": "text/x-python",
   "name": "python",
   "nbconvert_exporter": "python",
   "pygments_lexer": "ipython3",
   "version": "3.9.6"
  }
 },
 "nbformat": 4,
 "nbformat_minor": 2
}
